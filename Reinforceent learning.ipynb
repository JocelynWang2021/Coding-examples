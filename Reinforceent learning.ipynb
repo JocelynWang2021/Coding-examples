{
 "cells": [
  {
   "cell_type": "markdown",
   "metadata": {
    "deletable": false,
    "editable": false,
    "nbgrader": {
     "cell_type": "markdown",
     "checksum": "35e22f542837d636834ad6e869d22beb",
     "grade": false,
     "grade_id": "cell-5690119ead85e67e",
     "locked": true,
     "schema_version": 3,
     "solution": false,
     "task": false
    }
   },
   "source": [
    "### Checklist for submission\n",
    "\n",
    "It is extremely important to make sure that:\n",
    "\n",
    "1. Everything runs as expected (no bugs when running cells);\n",
    "2. The output from each cell corresponds to its code (don't change any cell's contents without rerunning it afterwards);\n",
    "3. All outputs are present (don't delete any of the outputs);\n",
    "4. Fill in all the places that say `# YOUR CODE HERE`, or \"**Your answer:** (fill in here)\".\n",
    "5. Never copy/paste any notebook cells. Inserting new cells is allowed, but it should not be necessary.\n",
    "6. The notebook contains some hidden metadata which is important during our grading process. **Make sure not to corrupt any of this metadata!** The metadata may for example be corrupted if you copy/paste any notebook cells, or if you perform an unsuccessful git merge / git pull. It may also be pruned completely if using Google Colab, so watch out for this. Searching for \"nbgrader\" when opening the notebook in a text editor should take you to the important metadata entries.\n",
    "7. Although we will try our very best to avoid this, it may happen that bugs are found after an assignment is released, and that we will push an updated version of the assignment to GitHub. If this happens, it is important that you update to the new version, while making sure the notebook metadata is properly updated as well. The safest way to make sure nothing gets messed up is to start from scratch on a clean updated version of the notebook, copy/pasting your code from the cells of the previous version into the cells of the new version.\n",
    "8. If you need to have multiple parallel versions of this notebook, make sure not to move them to another directory.\n",
    "9. Although not forced to work exclusively in the course Docker environment, you need to make sure that the notebook will run in that environment, i.e. that you have not added any additional dependencies.\n",
    "\n",
    "Failing to meet any of these requirements might lead to either a subtraction of POEs (at best) or a request for resubmission (at worst).\n",
    "\n",
    "We advise you the following steps before submission for ensuring that requirements 1, 2, and 3 are always met: **Restart the kernel** (in the menubar, select Kernel$\\rightarrow$Restart) and then **run all cells** (in the menubar, select Cell$\\rightarrow$Run All). This might require a bit of time, so plan ahead for this (and possibly use Google Cloud's GPU in HA1 and HA2 for this step). Finally press the \"Save and Checkout\" button before handing in, to make sure that all your changes are saved to this .ipynb file."
   ]
  },
  {
   "cell_type": "markdown",
   "metadata": {
    "deletable": false,
    "editable": false,
    "nbgrader": {
     "cell_type": "markdown",
     "checksum": "a6bb874a16c1ff767ac0f37ce0491265",
     "grade": false,
     "grade_id": "cell-774c93bf6433de68",
     "locked": true,
     "schema_version": 3,
     "solution": false,
     "task": false
    }
   },
   "source": [
    "### Fill in name of notebook file\n",
    "This might seem silly, but the version check below needs to know the filename of the current notebook, which is not trivial to find out programmatically.\n",
    "\n",
    "You might want to have several parallel versions of the notebook, and it is fine to rename the notebook as long as it stays in the same directory. **However**, if you do rename it, you also need to update its own filename below:"
   ]
  },
  {
   "cell_type": "code",
   "execution_count": 2,
   "metadata": {},
   "outputs": [],
   "source": [
    "nb_fname = \"HA3.ipynb\""
   ]
  },
  {
   "cell_type": "markdown",
   "metadata": {
    "deletable": false,
    "editable": false,
    "nbgrader": {
     "cell_type": "markdown",
     "checksum": "a025ba528a4e9c11fc54be126fdffab0",
     "grade": false,
     "grade_id": "cell-5676bcf768a7f9be",
     "locked": true,
     "schema_version": 3,
     "solution": false,
     "task": false
    }
   },
   "source": [
    "### Fill in group number and member names:"
   ]
  },
  {
   "cell_type": "code",
   "execution_count": 1,
   "metadata": {},
   "outputs": [],
   "source": [
    "GROUP = \"HA2 and HA3 8 \"\n",
    "NAME1 = \"Xiaofeng Wang\"\n",
    "NAME2 = \"Joakim Åkerström\""
   ]
  },
  {
   "cell_type": "markdown",
   "metadata": {
    "deletable": false,
    "editable": false,
    "nbgrader": {
     "cell_type": "markdown",
     "checksum": "42f960a95815e1aa3ce8132fcec59cd9",
     "grade": false,
     "grade_id": "cell-a15fe781533d9590",
     "locked": true,
     "schema_version": 3,
     "solution": false,
     "task": false
    }
   },
   "source": [
    "### Check Python version"
   ]
  },
  {
   "cell_type": "code",
   "execution_count": 4,
   "metadata": {
    "deletable": false,
    "editable": false,
    "nbgrader": {
     "cell_type": "code",
     "checksum": "3fef548ba4fe8319321134f43c6c479f",
     "grade": false,
     "grade_id": "cell-2b9c2390ee464c39",
     "locked": true,
     "schema_version": 3,
     "solution": false,
     "task": false
    }
   },
   "outputs": [],
   "source": [
    "from platform import python_version_tuple\n",
    "assert python_version_tuple()[:2] == ('3','7'), \"You are not running Python 3.7. Make sure to run Python through the course Docker environment, or alternatively in the provided Conda environment.\""
   ]
  },
  {
   "cell_type": "markdown",
   "metadata": {
    "deletable": false,
    "editable": false,
    "nbgrader": {
     "cell_type": "markdown",
     "checksum": "15ec4309f1e85f6e17bda73b9b6f48a2",
     "grade": false,
     "grade_id": "cell-4869b45600ce82f8",
     "locked": true,
     "schema_version": 3,
     "solution": false,
     "task": false
    }
   },
   "source": [
    "### Check that notebook server has access to all required resources, and that notebook has not moved"
   ]
  },
  {
   "cell_type": "code",
   "execution_count": 5,
   "metadata": {
    "deletable": false,
    "editable": false,
    "nbgrader": {
     "cell_type": "code",
     "checksum": "929b996cdd0fd4b8120fad773b146c86",
     "grade": false,
     "grade_id": "cell-122ac3d9100b8afb",
     "locked": true,
     "schema_version": 3,
     "solution": false,
     "task": false
    }
   },
   "outputs": [],
   "source": [
    "import os\n",
    "nb_dirname = os.path.abspath('')\n",
    "assert nb_dirname != '/workspace', \\\n",
    "    '[ERROR] The notebook server appears to have been started via Docker, at the same directory as the assignment. Make sure to start it at least one level above the assignment.'\n",
    "assignment_name = os.path.basename(nb_dirname)\n",
    "assert assignment_name in ['IHA1', 'IHA2', 'HA1', 'HA2', 'HA3'], \\\n",
    "    '[ERROR] The notebook appears to have been moved from its original directory'"
   ]
  },
  {
   "cell_type": "markdown",
   "metadata": {
    "deletable": false,
    "editable": false,
    "nbgrader": {
     "cell_type": "markdown",
     "checksum": "f09f40b5350db83232189137c550f0a1",
     "grade": false,
     "grade_id": "cell-2455deee513cd39c",
     "locked": true,
     "schema_version": 3,
     "solution": false,
     "task": false
    }
   },
   "source": [
    "### Verify correct nb_fname"
   ]
  },
  {
   "cell_type": "code",
   "execution_count": 6,
   "metadata": {
    "deletable": false,
    "editable": false,
    "nbgrader": {
     "cell_type": "code",
     "checksum": "a78c7227b049bb147e6c363affb6dae8",
     "grade": false,
     "grade_id": "cell-0472e2fd710f1d72",
     "locked": true,
     "schema_version": 3,
     "solution": false,
     "task": false
    }
   },
   "outputs": [
    {
     "data": {
      "text/html": [
       "<script>if(\"HA3.ipynb\" != IPython.notebook.notebook_name) { alert(\"You have filled in nb_fname = \\\"HA3.ipynb\\\", but this does not seem to match the notebook filename \\\"\" + IPython.notebook.notebook_name + \"\\\".\"); }</script>"
      ],
      "text/plain": [
       "<IPython.core.display.HTML object>"
      ]
     },
     "metadata": {},
     "output_type": "display_data"
    }
   ],
   "source": [
    "from IPython.display import display, HTML\n",
    "try:\n",
    "    display(HTML(r'<script>if(\"{nb_fname}\" != IPython.notebook.notebook_name) {{ alert(\"You have filled in nb_fname = \\\"{nb_fname}\\\", but this does not seem to match the notebook filename \\\"\" + IPython.notebook.notebook_name + \"\\\".\"); }}</script>'.format(nb_fname=nb_fname)))\n",
    "except NameError:\n",
    "    assert False, 'Make sure to fill in the nb_fname variable above!'"
   ]
  },
  {
   "cell_type": "markdown",
   "metadata": {
    "deletable": false,
    "editable": false,
    "nbgrader": {
     "cell_type": "markdown",
     "checksum": "98d88d8e8da19693053764f29dcc591d",
     "grade": false,
     "grade_id": "cell-ceacb1adcae4783d",
     "locked": true,
     "schema_version": 3,
     "solution": false,
     "task": false
    }
   },
   "source": [
    "### Verify that your notebook is up-to-date and not corrupted in any way"
   ]
  },
  {
   "cell_type": "code",
   "execution_count": 7,
   "metadata": {
    "deletable": false,
    "editable": false,
    "nbgrader": {
     "cell_type": "code",
     "checksum": "bb700528d4644601c1a8c91ef1d84635",
     "grade": false,
     "grade_id": "cell-f5a59288e11b4aec",
     "locked": true,
     "schema_version": 3,
     "solution": false,
     "task": false
    }
   },
   "outputs": [
    {
     "name": "stdout",
     "output_type": "stream",
     "text": [
      "Matching current notebook against the following URL:\n",
      "http://raw.githubusercontent.com/JulianoLagana/deep-machine-learning/master/home-assignments/HA3/HA3.ipynb\n",
      "[SUCCESS] No major notebook mismatch found when comparing to latest GitHub version. (There might be minor updates, but even that is the case, submitting your work based on this notebook version would be acceptable.)\n"
     ]
    }
   ],
   "source": [
    "import sys\n",
    "sys.path.append('..')\n",
    "from ha_utils import check_notebook_uptodate_and_not_corrupted\n",
    "check_notebook_uptodate_and_not_corrupted(nb_dirname, nb_fname)"
   ]
  },
  {
   "cell_type": "markdown",
   "metadata": {
    "deletable": false,
    "editable": false,
    "nbgrader": {
     "cell_type": "markdown",
     "checksum": "9f4edef3c4e6df4dbb2a29dba78c09d8",
     "grade": false,
     "grade_id": "cell-2f332c3ca731afc6",
     "locked": true,
     "schema_version": 3,
     "solution": false
    }
   },
   "source": [
    "# Home Assignment 3\n",
    "This home assignment will focus on reinforcement learning and deep reinforcement learning. The first part will cover value-table reinforcement learning techniques, and the second part will include neural networks as function approximators, i.e. deep reinforcement learning. \n",
    "\n",
    "When handing in this assignment, make sure that you're handing in the correct version, and more importantly, *that you do no clear any output from your cells*. We'll use these outputs to aid us when grading your assignment."
   ]
  },
  {
   "cell_type": "markdown",
   "metadata": {
    "deletable": false,
    "editable": false,
    "nbgrader": {
     "cell_type": "markdown",
     "checksum": "cc4d88f2e070d5479382bf223b5c5d49",
     "grade": false,
     "grade_id": "cell-8122dcb8d8ca1c9e",
     "locked": true,
     "schema_version": 3,
     "solution": false
    }
   },
   "source": [
    "## Task 1: Gridworld\n",
    "\n",
    "In this task, you will implement Value Iteration to solve for the optimal policy, $\\pi^*$, and the corresponding state value function, $V^*$.\n",
    "\n",
    "The MDP you will work with in this assignment is illustrated in the figure below\n",
    "\n",
    "![title](./grid_world.png) "
   ]
  },
  {
   "cell_type": "markdown",
   "metadata": {
    "deletable": false,
    "editable": false,
    "nbgrader": {
     "cell_type": "markdown",
     "checksum": "7ddafb4a3ebc91d6f23acbcdbad9f176",
     "grade": false,
     "grade_id": "cell-b4e5d5337fbaa0e5",
     "locked": true,
     "schema_version": 3,
     "solution": false
    }
   },
   "source": [
    "The agent starts in one of the non-black squares shown in the above figure, and then proceeds to take actions. The available actions at any time step are: **North, West, South,** and **East**. If an action would make the agent bump into a wall, or one of the black (unreachable) states, it instead does nothing, leaving the agent at the same place it was before.\n",
    "\n",
    "The reward $\\mathcal{R}_s^a$ of being in state $s$ and performing actions $a$ is zero for all states, regardless of the action taken, with the exception of the green and the red squares. For the green square, the reward is always 1, and for the red square, always -1, regardless of the action.\n",
    "\n",
    "When the agent is either in the green or the red square, it will be transported to the terminal state in the next time step, regardless of the action taken. The terminal state is shown as the white square with the \"T\" inside.\n",
    "\n",
    "#### State representation\n",
    "The notations used to define the states are illustrated in the table below\n",
    "\n",
    "| $S_0$ | $S_1$ | $S_2$ | $S_3$ | $S_4$ |    |\n",
    "|-------|-------|-------|-------|-------|----|\n",
    "| $S_5$ | $S_6$ | $S_7$ | $S_8$ | $S_9$ |    |\n",
    "| $S_{10}$ | $S_{11}$ | $S_{12}$ | $S_{13}$ | $S_{14}$ | $S_{15}$|\n",
    "\n",
    "where $S_{10}$ corresponds to the initial state of the environment, $S_4$ and $S_9$ to the green and red states of the environment, and $S_{15}$ to the terminal state."
   ]
  },
  {
   "cell_type": "markdown",
   "metadata": {
    "deletable": false,
    "editable": false,
    "nbgrader": {
     "cell_type": "markdown",
     "checksum": "8d0703fff00f4fb67a72b46968fe7253",
     "grade": false,
     "grade_id": "cell-c54a0f7162b1f260",
     "locked": true,
     "schema_version": 3,
     "solution": false
    }
   },
   "source": [
    "\n",
    "### Task 1.a: Solve for $V^*(s)$ and $Q^*(s,a)$\n",
    "For this task all transition probabilities are assumed to be 1 (that is, trying to move in a certain direction will definitely move the agent in the chosen direction), and a discount factor of .9, i.e. $\\gamma=.9$."
   ]
  },
  {
   "cell_type": "markdown",
   "metadata": {
    "deletable": false,
    "editable": false,
    "nbgrader": {
     "cell_type": "markdown",
     "checksum": "9894346da453882ad420d049511a5b8b",
     "grade": false,
     "grade_id": "cell-c7fa1d00113f314e",
     "locked": true,
     "schema_version": 3,
     "solution": false
    }
   },
   "source": [
    "* Solve for $V^*(S_{10})$ "
   ]
  },
  {
   "cell_type": "markdown",
   "metadata": {
    "deletable": false,
    "nbgrader": {
     "cell_type": "markdown",
     "checksum": "e998cc86ed986eeac11f54b0f6869a67",
     "grade": true,
     "grade_id": "cell-966bc6b1276b31f1",
     "locked": false,
     "points": 0,
     "schema_version": 3,
     "solution": true
    }
   },
   "source": [
    "**Your answer:**<br>\n",
    "$$V^*(S_{10}) = 0.9^6 \\approx 0.531$$\n",
    "This is shown with Bellman optimality equation. The full proof requires us to walk through the equation step by step recursively. However, to give a short explanation, we know Bellman optimality equation basically tells us that the optimal value of a state is equal to the reward after taking the best action plus with the discounted value of the next state. Since there are 6 steps in the optimal path (either by 10-5-0-1-2-3-4 or by 10-11-12-13-8-3-4), and since we have a discount factor of 0.9 at each step, so that result should be $0.9^6$ as stated."
   ]
  },
  {
   "cell_type": "markdown",
   "metadata": {
    "deletable": false,
    "editable": false,
    "nbgrader": {
     "cell_type": "markdown",
     "checksum": "c2d30fc8031fa1ff3f06019a9cf1ba27",
     "grade": false,
     "grade_id": "cell-4cc15316add9bd67",
     "locked": true,
     "schema_version": 3,
     "solution": false
    }
   },
   "source": [
    "* Solve $Q^*(S_{10},a)$ for all actions"
   ]
  },
  {
   "cell_type": "markdown",
   "metadata": {
    "deletable": false,
    "nbgrader": {
     "cell_type": "markdown",
     "checksum": "ad5e1409a936a5c1ec6684a1edae79ee",
     "grade": true,
     "grade_id": "cell-0e5efad7ed72fdcb",
     "locked": false,
     "points": 0,
     "schema_version": 3,
     "solution": true
    }
   },
   "source": [
    "**Your answer:**<br>\n",
    "Using the Bellman optimality equation, we know that $Q^*(S_{10}, a)$ is equal to the reward after taking the action $a$ plus with the discounted value of the next state. Since the rewards surrounding $S_{10}$ are always zero, we can ignore them. The discounted value of the next state can be calculated in the same way as in the previous question. So the answer for this question is:\n",
    "$$Q^*(S_{10}, N) = \\gamma V^*(S_5) = 0.9 \\times 0.9^5 = 0.9^6 \\approx 0.531$$\n",
    "$$Q^*(S_{10}, E) = \\gamma V^*(S_{11}) = 0.9 \\times 0.9^5 = 0.9^6 \\approx 0.531$$\n",
    "$$Q^*(S_{10}, S) = \\gamma V^*(S_{10}) = 0.9 \\times 0.9^6 = 0.9^7 \\approx 0.478$$\n",
    "$$Q^*(S_{10}, W) = \\gamma V^*(S_{10}) = 0.9 \\times 0.9^6 = 0.9^7 \\approx 0.478$$"
   ]
  },
  {
   "cell_type": "markdown",
   "metadata": {
    "deletable": false,
    "editable": false,
    "nbgrader": {
     "cell_type": "markdown",
     "checksum": "fcab701a30ff0fd17edaa87e562124ba",
     "grade": false,
     "grade_id": "cell-e426e3815f78930a",
     "locked": true,
     "schema_version": 3,
     "solution": false
    }
   },
   "source": [
    "\n",
    "\n",
    "### Task 1.b Write a mathematical expression relating $V^\\pi(s)$ to $Q^\\pi(s,a)$ and $\\pi(a|s)$\n"
   ]
  },
  {
   "cell_type": "markdown",
   "metadata": {
    "deletable": false,
    "nbgrader": {
     "cell_type": "markdown",
     "checksum": "61bf64e2c38d41b0f0d024faba554e8f",
     "grade": true,
     "grade_id": "cell-343c3ea4883085e1",
     "locked": false,
     "points": 0,
     "schema_version": 3,
     "solution": true
    }
   },
   "source": [
    "**Your answer:**<br><br>\n",
    "This is the Bellman expectation equation.<br>\n",
    "$$V^\\pi (s) = \\sum_{a}{\\pi(a|s) \\, Q^\\pi(s,a)}$$"
   ]
  },
  {
   "cell_type": "markdown",
   "metadata": {
    "deletable": false,
    "editable": false,
    "nbgrader": {
     "cell_type": "markdown",
     "checksum": "993f36fffd9ebfd3c89a3b63dd42685d",
     "grade": false,
     "grade_id": "cell-ab80df325256cf89",
     "locked": true,
     "schema_version": 3,
     "solution": false
    }
   },
   "source": [
    "\n",
    "###  Task 1.c: Value Iteration\n",
    "For this task, the transitions are no longer deterministic. Instead, there is a 0.2 probability that the agent will try to travel in an orthogonal direction of the chosen action (0.1 probability for each of the two orthogonal directions). Note that the Markov decision process is still known and does not have to be learned from experience.\n",
    "\n",
    "Your task is to implement value iteration and solve for the\n",
    "* optimal greedy policy $\\pi^*(s)$ \n",
    "* $V^*(s)$"
   ]
  },
  {
   "cell_type": "markdown",
   "metadata": {
    "deletable": false,
    "editable": false,
    "nbgrader": {
     "cell_type": "markdown",
     "checksum": "659925b7584671453aaee51f14ec4083",
     "grade": false,
     "grade_id": "cell-74497ad9b13e8362",
     "locked": true,
     "schema_version": 3,
     "solution": false
    }
   },
   "source": [
    "#### The value iteration algorithm\n",
    "Value iteration is an iterative algorithm used to compute the optimal value function $V^*(s)$. Each iteration starts with a guess of what the value function is and then uses the Bellman equations to improve this guess iteratively. We can describe one iteration of the algorithm as\n",
    "\n",
    "$\n",
    "\\textbf{For} ~ s \\in {\\cal S}:\\qquad  \\\\\n",
    "\\quad V_{k+1}(s) = \\underset{a \\in {\\cal A}}{\\text{max}}~ \\left( \\mathcal{R}_s^a + \\gamma \\underset{{s'\\in \\mathcal{S}}}{\\sum} \\mathcal{P}_{ss'}^a \\cdot V_k(s') \\right)\n",
    "$\n",
    "\n",
    "where $\\mathcal{P}_{ss'}^a={\\mathrm Pr}[S'=s'\\big|S=s,A=a]$ is the probability to transition state $s$ to $s'$ given action $a$.\n",
    "\n",
    "\n",
    "#### The MDP Python class\n",
    "The Markov Decision Process you will work with is defined in `gridworld_mdp.py`. In the implementation, the actions are represented by integers as, North = 0, West = 1, South = 2, and East = 3.\n",
    "To interact with the MDP, you need to instantiate an object as: \n",
    "\n",
    "\n",
    "```python\n",
    "mdp = GridWorldMDP()\n",
    "```\n",
    "\n",
    "At your disposal there are a number of instance-functions implemented for you, and presented below:"
   ]
  },
  {
   "cell_type": "code",
   "execution_count": 4,
   "metadata": {
    "deletable": false,
    "editable": false,
    "nbgrader": {
     "cell_type": "code",
     "checksum": "636b8c5ea0bb7d3b4798564dfc7d580d",
     "grade": false,
     "grade_id": "cell-21e5d7b3d3083cd6",
     "locked": true,
     "schema_version": 3,
     "solution": false
    }
   },
   "outputs": [
    {
     "name": "stdout",
     "output_type": "stream",
     "text": [
      "Help on function get_states in module gridworld_mdp:\n",
      "\n",
      "get_states(self)\n",
      "    Returns complete set of states for the MDP\n",
      "    :return: numpy array of shape [num states,]\n",
      "\n"
     ]
    }
   ],
   "source": [
    "from gridworld_mdp import *\n",
    "import numpy as np\n",
    "\n",
    "help(GridWorldMDP.get_states)"
   ]
  },
  {
   "cell_type": "code",
   "execution_count": 5,
   "metadata": {
    "deletable": false,
    "editable": false,
    "nbgrader": {
     "cell_type": "code",
     "checksum": "620f4674b0caadf475b4889bd8747b62",
     "grade": false,
     "grade_id": "cell-9706322eb34e16db",
     "locked": true,
     "schema_version": 3,
     "solution": false
    }
   },
   "outputs": [
    {
     "name": "stdout",
     "output_type": "stream",
     "text": [
      "Help on function __init__ in module gridworld_mdp:\n",
      "\n",
      "__init__(self, trans_prob=0.8)\n",
      "    Initializes an instance of the GridWorldMDP class\n",
      "    :param trans_prob: transition probabilities (e.g. =1 for deterministic MDP)\n",
      "\n"
     ]
    }
   ],
   "source": [
    "# The constructor\n",
    "help(GridWorldMDP.__init__)"
   ]
  },
  {
   "cell_type": "code",
   "execution_count": 6,
   "metadata": {
    "deletable": false,
    "editable": false,
    "nbgrader": {
     "cell_type": "code",
     "checksum": "f9b14ba756ee79811ccba63e1e51f14a",
     "grade": false,
     "grade_id": "cell-38d3ab6fb24c1af8",
     "locked": true,
     "schema_version": 3,
     "solution": false
    }
   },
   "outputs": [
    {
     "name": "stdout",
     "output_type": "stream",
     "text": [
      "Help on function get_actions in module gridworld_mdp:\n",
      "\n",
      "get_actions(self)\n",
      "    Returns complete set of actions for the MDP\n",
      "    :return: numpy array of shape [num actions,]\n",
      "\n"
     ]
    }
   ],
   "source": [
    "help(GridWorldMDP.get_actions)"
   ]
  },
  {
   "cell_type": "code",
   "execution_count": 7,
   "metadata": {
    "deletable": false,
    "editable": false,
    "nbgrader": {
     "cell_type": "code",
     "checksum": "e0b98cbe90baa640578ed1991b4e3501",
     "grade": false,
     "grade_id": "cell-ecb00397472a5faa",
     "locked": true,
     "schema_version": 3,
     "solution": false
    }
   },
   "outputs": [
    {
     "name": "stdout",
     "output_type": "stream",
     "text": [
      "Help on function state_transition_func in module gridworld_mdp:\n",
      "\n",
      "state_transition_func(self, s, a)\n",
      "    Returns the transition probabilities to all states given current state and action\n",
      "    :param state: current state as integer\n",
      "    :param action: selected action as integer\n",
      "    :return: state-transition probabilities, i.e.\n",
      "     [P[S_0| S=s, A_t=a], P[S_1| S=s, A=a], ..., P[S_14| S=s, A=a]]\n",
      "\n"
     ]
    }
   ],
   "source": [
    "help(GridWorldMDP.state_transition_func)"
   ]
  },
  {
   "cell_type": "code",
   "execution_count": 8,
   "metadata": {
    "deletable": false,
    "editable": false,
    "nbgrader": {
     "cell_type": "code",
     "checksum": "40120f95b5767060a8ca55455cf5d485",
     "grade": false,
     "grade_id": "cell-aa8e1498649053a5",
     "locked": true,
     "schema_version": 3,
     "solution": false
    }
   },
   "outputs": [
    {
     "name": "stdout",
     "output_type": "stream",
     "text": [
      "Help on function reward_function in module gridworld_mdp:\n",
      "\n",
      "reward_function(self, s, a)\n",
      "    Returns the reward r(s,a)\n",
      "    :param state: current state as integer\n",
      "    :param action: selected action as integer\n",
      "    :return: r(s,a)\n",
      "\n"
     ]
    }
   ],
   "source": [
    "help(GridWorldMDP.reward_function)"
   ]
  },
  {
   "cell_type": "markdown",
   "metadata": {
    "deletable": false,
    "editable": false,
    "nbgrader": {
     "cell_type": "markdown",
     "checksum": "8defb43e783bcb9464571753a5c6e452",
     "grade": false,
     "grade_id": "cell-c1408cc9707dd7f8",
     "locked": true,
     "schema_version": 3,
     "solution": false
    }
   },
   "source": [
    "We also provide two helper functions for visualizing the value function and the policies you obtain:"
   ]
  },
  {
   "cell_type": "code",
   "execution_count": 9,
   "metadata": {
    "deletable": false,
    "editable": false,
    "nbgrader": {
     "cell_type": "code",
     "checksum": "b39ad0b689edcb447e156b888fbc0515",
     "grade": false,
     "grade_id": "cell-b754590784e24eb1",
     "locked": true,
     "schema_version": 3,
     "solution": false
    }
   },
   "outputs": [],
   "source": [
    "# Function for printing a policy pi\n",
    "def print_policy(pi):\n",
    "    print('Policy for non-terminal states: ')\n",
    "    indencies = np.arange(1, 16)\n",
    "    txt = '| '\n",
    "    hor_delimiter = '---------------------'\n",
    "    print(hor_delimiter)\n",
    "    for a, i in zip(pi, indencies):\n",
    "        txt += mdp.act_to_char_dict[a] + ' | '\n",
    "        if i % 5 == 0:\n",
    "            print(txt + '\\n' + hor_delimiter)\n",
    "            txt = '| '\n",
    "    print('                            ---')\n",
    "    print('Policy for terminal state: |', mdp.act_to_char_dict[pi[15]],'|')\n",
    "    print('                            ---')            \n",
    "\n",
    "# Function for printing a table with of the value function\n",
    "def print_value_table(values, num_iterations=None):            \n",
    "    if num_iterations:\n",
    "        print('Values for non-terminal states after: ', num_iterations, 'iterations \\n', np.reshape(values, [3, 5]), '\\n')\n",
    "        print('Value for terminal state:', terminal_value, '\\n')\n",
    "    else: \n",
    "        terminal_value = values[-1]\n",
    "        print('Values for non-terminal states: \\n', np.reshape(values[:-1], [3, 5]))\n",
    "        print('Value for terminal state:', terminal_value, '\\n')"
   ]
  },
  {
   "cell_type": "markdown",
   "metadata": {
    "deletable": false,
    "editable": false,
    "nbgrader": {
     "cell_type": "markdown",
     "checksum": "5ef181cf6fbf6f2b9c2947aba5a8fdb6",
     "grade": false,
     "grade_id": "cell-87e02763b23fe1f8",
     "locked": true,
     "schema_version": 3,
     "solution": false
    }
   },
   "source": [
    "(**1 POE**) Now it's time for you to implement your own version of value iteration to solve for the greedy policy and $V^*(s)$."
   ]
  },
  {
   "cell_type": "code",
   "execution_count": 10,
   "metadata": {
    "deletable": false,
    "nbgrader": {
     "cell_type": "code",
     "checksum": "0dc5e9fa3ab59487087475860c657e2f",
     "grade": true,
     "grade_id": "cell-d473b99fe1825067",
     "locked": false,
     "points": 1,
     "schema_version": 3,
     "solution": true
    }
   },
   "outputs": [],
   "source": [
    "def value_iteration(gamma, mdp):\n",
    "    \"\"\"\n",
    "    Returns:\n",
    "        V - state value table, numpy array of shape (16,)\n",
    "        pi - greedy policy table, numpy array of shape (16,)\n",
    "    \"\"\"\n",
    "    V = np.zeros([16]) # state value table\n",
    "    epsilon = 1e-5\n",
    "    while True:\n",
    "        delta = 0\n",
    "        for s in range(len(V)):\n",
    "            temp = V[s]\n",
    "            V[s] = max([\n",
    "                mdp.state_transition_func(s, a)\\\n",
    "                .dot(mdp.reward_function(s,a)+gamma*V)\n",
    "                for a in range(4)\n",
    "            ])\n",
    "            delta = max(delta, abs(temp-V[s]))\n",
    "        if delta < epsilon:\n",
    "            break\n",
    "    \n",
    "    m = np.array([[mdp.state_transition_func(s, a)\\\n",
    "                   .dot(mdp.reward_function(s, a)+gamma*V) for s in range(len(V))] \n",
    "                  for a in range(4)])\n",
    "    pi = np.argmax(m, axis=0)\n",
    "    \n",
    "    return V, pi\n"
   ]
  },
  {
   "cell_type": "markdown",
   "metadata": {
    "deletable": false,
    "editable": false,
    "nbgrader": {
     "cell_type": "markdown",
     "checksum": "41ca129edbe5353b31ec35933bf28cdb",
     "grade": false,
     "grade_id": "cell-99c149095318adac",
     "locked": true,
     "schema_version": 3,
     "solution": false
    }
   },
   "source": [
    "Run your implementation for the deterministic version of our MDP. As a sanity check, compare your analytical solutions with the output from your implementation."
   ]
  },
  {
   "cell_type": "code",
   "execution_count": 11,
   "metadata": {
    "deletable": false,
    "editable": false,
    "nbgrader": {
     "cell_type": "code",
     "checksum": "8a8722a6c33a96991f1091e2418def51",
     "grade": false,
     "grade_id": "cell-bd495acfe33d405f",
     "locked": true,
     "schema_version": 3,
     "solution": false
    }
   },
   "outputs": [
    {
     "name": "stdout",
     "output_type": "stream",
     "text": [
      "Values for non-terminal states: \n",
      " [[ 0.6561    0.729     0.81      0.9       1.      ]\n",
      " [ 0.59049   0.        0.        0.81     -1.      ]\n",
      " [ 0.531441  0.59049   0.6561    0.729     0.6561  ]]\n",
      "Value for terminal state: 0.0 \n",
      "\n",
      "Policy for non-terminal states: \n",
      "---------------------\n",
      "| E | E | E | E | N | \n",
      "---------------------\n",
      "| N | N | N | N | N | \n",
      "---------------------\n",
      "| N | E | E | N | W | \n",
      "---------------------\n",
      "                            ---\n",
      "Policy for terminal state: | N |\n",
      "                            ---\n"
     ]
    }
   ],
   "source": [
    "mdp = GridWorldMDP(trans_prob=1.)\n",
    "v, pi = value_iteration(.9, mdp)\n",
    "print_value_table(v)\n",
    "print_policy(pi)"
   ]
  },
  {
   "cell_type": "markdown",
   "metadata": {
    "collapsed": true,
    "deletable": false,
    "editable": false,
    "nbgrader": {
     "cell_type": "markdown",
     "checksum": "172eb8e58e4dbdcca83bb2bb8589032d",
     "grade": false,
     "grade_id": "cell-5a24214a0645d4b4",
     "locked": true,
     "schema_version": 3,
     "solution": false
    }
   },
   "source": [
    "Once your implementation passed the sanity check, run it for the stochastic case, where the probability of an action succeding is 0.8, and 0.2 of moving the agent in an orthogonal direction to the intended. Use $\\gamma = .99$."
   ]
  },
  {
   "cell_type": "code",
   "execution_count": 12,
   "metadata": {
    "deletable": false,
    "editable": false,
    "nbgrader": {
     "cell_type": "code",
     "checksum": "60e210ba654df60fcc54a7d6eda59aae",
     "grade": false,
     "grade_id": "cell-c6d0282ee295bb85",
     "locked": true,
     "schema_version": 3,
     "solution": false
    }
   },
   "outputs": [
    {
     "name": "stdout",
     "output_type": "stream",
     "text": [
      "Values for non-terminal states: \n",
      " [[ 0.93861961  0.95193383  0.96395322  0.97612436  1.        ]\n",
      " [ 0.92691612  0.          0.          0.88371776 -1.        ]\n",
      " [ 0.91395183  0.90255591  0.89130209  0.88057637  0.79971442]]\n",
      "Value for terminal state: 0.0 \n",
      "\n",
      "Policy for non-terminal states: \n",
      "---------------------\n",
      "| E | E | E | E | N | \n",
      "---------------------\n",
      "| N | N | N | W | N | \n",
      "---------------------\n",
      "| N | W | W | W | S | \n",
      "---------------------\n",
      "                            ---\n",
      "Policy for terminal state: | N |\n",
      "                            ---\n"
     ]
    }
   ],
   "source": [
    "# Run for stochastic MDP, gamma = .99\n",
    "mdp = GridWorldMDP()\n",
    "v, pi = value_iteration(.99, mdp)\n",
    "print_value_table(v)\n",
    "print_policy(pi)"
   ]
  },
  {
   "cell_type": "markdown",
   "metadata": {
    "deletable": false,
    "editable": false,
    "nbgrader": {
     "cell_type": "markdown",
     "checksum": "2c8073e7bab3cedbbcac32c6b3a1a428",
     "grade": false,
     "grade_id": "cell-b80f5f5b9d1398a6",
     "locked": true,
     "schema_version": 3,
     "solution": false
    }
   },
   "source": [
    "**(2 POE)** Does the policy that the algorithm found looks reasonable? \n",
    "\n",
    "In particular, what's the policy for state $S_8$? Is that a good idea? Why?"
   ]
  },
  {
   "cell_type": "markdown",
   "metadata": {
    "deletable": false,
    "nbgrader": {
     "cell_type": "markdown",
     "checksum": "12691470ab1f2881c2087ad32395b3a5",
     "grade": true,
     "grade_id": "cell-daff5655fe78f131",
     "locked": false,
     "points": 2,
     "schema_version": 3,
     "solution": true
    }
   },
   "source": [
    "**Your answer:**<br>\n",
    "Yes, the found policy looks reasonable. At state $S_8$, the policy is to go west, which guarantees that there is no chance for the agent to step into the red state. Taking any other actions will be dangerous. For most cells in the bottom row, the policy is go west so that the agent can reach the green state by going through the top row. This is also reasonable since state $S_8$ is located right next to the red state. Hence, we think it is a good idea for the agent to try to go west at the bottom row."
   ]
  },
  {
   "cell_type": "markdown",
   "metadata": {
    "deletable": false,
    "editable": false,
    "nbgrader": {
     "cell_type": "markdown",
     "checksum": "5c94489bd5a5a7608e4fa04705176796",
     "grade": false,
     "grade_id": "cell-d4840da19cbbb63a",
     "locked": true,
     "schema_version": 3,
     "solution": false
    }
   },
   "source": [
    "Test your implementation using this function."
   ]
  },
  {
   "cell_type": "code",
   "execution_count": 13,
   "metadata": {
    "deletable": false,
    "editable": false,
    "nbgrader": {
     "cell_type": "code",
     "checksum": "e5071817f08d1145df1c5095dab2e7dc",
     "grade": false,
     "grade_id": "cell-f89a5e7709d41efc",
     "locked": true,
     "schema_version": 3,
     "solution": false
    }
   },
   "outputs": [
    {
     "name": "stdout",
     "output_type": "stream",
     "text": [
      "Passed: state-value test, for gamma=.99\n",
      "Passed: policy test, for gamma=.99\n"
     ]
    }
   ],
   "source": [
    "test_value_iteration(v, pi)"
   ]
  },
  {
   "cell_type": "markdown",
   "metadata": {
    "deletable": false,
    "editable": false,
    "nbgrader": {
     "cell_type": "markdown",
     "checksum": "7a2a2376284478e5ff87e8fc45681df1",
     "grade": false,
     "grade_id": "cell-32b52b966ea12de5",
     "locked": true,
     "schema_version": 3,
     "solution": false
    }
   },
   "source": [
    "Run value iteration for the same scenario as above, but now with $\\gamma=.9$"
   ]
  },
  {
   "cell_type": "code",
   "execution_count": 14,
   "metadata": {
    "deletable": false,
    "editable": false,
    "nbgrader": {
     "cell_type": "code",
     "checksum": "45da583d4680e326a85cde59f0373b3e",
     "grade": false,
     "grade_id": "cell-3f797c0f704c2394",
     "locked": true,
     "schema_version": 3,
     "solution": false
    }
   },
   "outputs": [
    {
     "name": "stdout",
     "output_type": "stream",
     "text": [
      "Values for non-terminal states: \n",
      " [[ 0.56631425  0.65360208  0.74438015  0.84776628  1.        ]\n",
      " [ 0.49725131  0.          0.          0.57185903 -1.        ]\n",
      " [ 0.43084319  0.37830034  0.41624464  0.47405641  0.2761765 ]]\n",
      "Value for terminal state: 0.0 \n",
      "\n",
      "Policy for non-terminal states: \n",
      "---------------------\n",
      "| E | E | E | E | N | \n",
      "---------------------\n",
      "| N | N | N | N | N | \n",
      "---------------------\n",
      "| N | W | E | N | W | \n",
      "---------------------\n",
      "                            ---\n",
      "Policy for terminal state: | N |\n",
      "                            ---\n"
     ]
    }
   ],
   "source": [
    "# Run for stochastic MDP, gamma = .9\n",
    "mdp = GridWorldMDP()\n",
    "v, pi = value_iteration(.9, mdp)\n",
    "print_value_table(v)\n",
    "print_policy(pi)"
   ]
  },
  {
   "cell_type": "markdown",
   "metadata": {
    "deletable": false,
    "editable": false,
    "nbgrader": {
     "cell_type": "markdown",
     "checksum": "7386b2eeb00e002a5fd8dc96f763ebd0",
     "grade": false,
     "grade_id": "cell-9192d61af754d47b",
     "locked": true,
     "schema_version": 3,
     "solution": false
    }
   },
   "source": [
    "**(2 POE)** Do you notice any difference between the greedy policy for the two different discount factors. If so, what's the difference, and why do you think this happened?"
   ]
  },
  {
   "cell_type": "markdown",
   "metadata": {
    "deletable": false,
    "nbgrader": {
     "cell_type": "markdown",
     "checksum": "9826b72c498da4e15a55628fe23d6cdb",
     "grade": true,
     "grade_id": "cell-1a675e7574dce1d5",
     "locked": false,
     "points": 2,
     "schema_version": 3,
     "solution": true
    }
   },
   "source": [
    "**Your answer:** <br>\n",
    "The discount factor $\\gamma$ controls how much the agent chooses to value the \"delayed reward\" over the \"immediate reward\". With the higher discount factor, the agents get diminishes slower with time, which means that the optimal policy will prefer the longer path as long as it is safer to reach the goal along this path. So let's assume the agent starts at the middle cell of the bottom row (state $S_{12}$). With $\\gamma = 0.99$, the agent is more careful and will choose to go west to reach the goal through the top row, despite it is the longer path. When $\\gamma = 0.9$, the agent takes more risks and will attempt to reach the goal by going east. "
   ]
  },
  {
   "cell_type": "markdown",
   "metadata": {
    "deletable": false,
    "editable": false,
    "nbgrader": {
     "cell_type": "markdown",
     "checksum": "79f657022c51018529b8d26b0ddd63c8",
     "grade": false,
     "grade_id": "cell-01feb7e04644407c",
     "locked": true,
     "schema_version": 3,
     "solution": false
    }
   },
   "source": [
    "## Task 2: Q-learning\n",
    "\n",
    "In the previous task, you solved for $V^*(s)$ and the greedy policy $\\pi^*(s)$, with the entire model of the MDP being available to you. This is however not very practical since for most problems we are trying to solve, the model is not known, and estimating the model is quite often a very tedious process which often also requires a lot of simplifications. \n",
    "\n",
    "#### Q-learning algorithm\n",
    "$\n",
    "\\text{Initialize}~Q(s,a), ~ \\forall~ s \\in {\\cal S},~ a~\\in {\\cal A} \\\\\n",
    "\\textbf{Repeat}~\\text{(for each episode):}\\\\\n",
    "\\quad \\text{Initialize}~s\\\\\n",
    "\\qquad \\textbf{Repeat}~\\text{(for each step in episode):}\\\\\n",
    "\\qquad\\quad \\text{Chose $a$ from $s$ using poliy derived from $Q$ (e.g., $\\epsilon$-greedy)}\\\\\n",
    "\\qquad\\quad \\text{Take action a, observe r, s'}\\\\\n",
    "\\qquad\\quad Q(s,a) \\leftarrow Q(s,a) + \\alpha \\left(r + \\gamma~\\underset{a}{\\text{max}}~Q(s',a) - Q(s,a) \\right) \\\\\n",
    "\\qquad\\quad s \\leftarrow s' \\\\\n",
    "\\qquad \\text{Until s is terminal}\n",
    "$"
   ]
  },
  {
   "cell_type": "markdown",
   "metadata": {
    "deletable": false,
    "editable": false,
    "nbgrader": {
     "cell_type": "markdown",
     "checksum": "1d14ccba7e39da49048eb293b1161230",
     "grade": false,
     "grade_id": "cell-bbe7f99d1cc4e6af",
     "locked": true,
     "schema_version": 3,
     "solution": false
    }
   },
   "source": [
    "### Task 2.1  Implement an $\\epsilon$-greedy policy\n",
    "\n",
    "**(1 POE)**\n",
    "\n",
    "The goal of the Q-learning algorithm is to find the optimal policy $\\pi^*$, by estimating the state action value function under the optimal policy, i.e. $Q^*(s, a)$. From $Q^*(s,a)$, the agent can follow $\\pi^*$, by choosing the action with that yields the largest expected value for each state, i.e. $\\underset{a}{\\text{argmax}}~Q^*(s, a)$.\n",
    "\n",
    "However, when training a Q-learning model, the agent typically follows another policy to explore the environment. In reinforcement learning this is known as off-policy learning. \n",
    "\n",
    "Your task is to implement a widely popular exploration policy, known as  the $\\epsilon$-greedy policy, in the cell below.\n",
    "\n",
    "An $\\epsilon$-greedy policy should:\n",
    "* with probability $\\epsilon$ take an uniformly-random action.\n",
    "* otherwise choose the best action according to the estimated state action values.\n",
    "\n",
    "*Hint:* The $\\epsilon$-greedy policy can be implemented extra elegantly by calculating the actual resulting sampling distribution."
   ]
  },
  {
   "cell_type": "code",
   "execution_count": 15,
   "metadata": {
    "deletable": false,
    "nbgrader": {
     "cell_type": "code",
     "checksum": "9ea10393af19c22a02e445c765e89a55",
     "grade": true,
     "grade_id": "cell-48c826a87791fb56",
     "locked": false,
     "points": 1,
     "schema_version": 3,
     "solution": true
    }
   },
   "outputs": [],
   "source": [
    "def eps_greedy_policy(q_values, eps):\n",
    "    '''\n",
    "    Creates an epsilon-greedy policy\n",
    "    :param q_values: set of Q-values of shape (num actions,)\n",
    "    :param eps: probability of taking a uniform random action \n",
    "    :return: policy of shape (num actions,)\n",
    "    '''\n",
    "    # YOUR CODE HERE\n",
    "    policy = np.array([eps/len(q_values)]*len(q_values))\n",
    "    policy[q_values.argmax()] += 1 - eps\n",
    "    \n",
    "    return policy\n",
    "    "
   ]
  },
  {
   "cell_type": "markdown",
   "metadata": {
    "deletable": false,
    "editable": false,
    "nbgrader": {
     "cell_type": "markdown",
     "checksum": "583492c65cb090c181c66b42c2a51eff",
     "grade": false,
     "grade_id": "cell-6d33489b428b1179",
     "locked": true,
     "schema_version": 3,
     "solution": false
    }
   },
   "source": [
    "Run the cell below to test your implementation"
   ]
  },
  {
   "cell_type": "code",
   "execution_count": 16,
   "metadata": {
    "deletable": false,
    "editable": false,
    "nbgrader": {
     "cell_type": "code",
     "checksum": "8803a2f8fb24390fc517a97579e04242",
     "grade": false,
     "grade_id": "cell-80bd577e278ec0b0",
     "locked": true,
     "schema_version": 3,
     "solution": false
    }
   },
   "outputs": [
    {
     "name": "stdout",
     "output_type": "stream",
     "text": [
      "Test passed, good job!\n"
     ]
    }
   ],
   "source": [
    "mdp = GridWorldMDP()\n",
    "\n",
    "# Test shape of output\n",
    "actions = mdp.get_actions()\n",
    "for eps in (0, 1):\n",
    "    foo = np.zeros([len(actions)])\n",
    "    foo[0] = 1.\n",
    "    eps_greedy = eps_greedy_policy(foo, eps)\n",
    "    assert foo.shape == eps_greedy.shape, \"wrong shape of output\"\n",
    "actions = [i for i in range(10)]\n",
    "for eps in (0, 1):\n",
    "    foo = np.zeros([len(actions)])\n",
    "    foo[0] = 1.\n",
    "    eps_greedy = eps_greedy_policy(foo, eps)\n",
    "    assert foo.shape == eps_greedy.shape, \"wrong shape of output\"\n",
    "\n",
    "# Test for greedy actions\n",
    "for a in actions:\n",
    "    foo = np.zeros([len(actions)])\n",
    "    foo[a] = 1.\n",
    "    eps_greedy = eps_greedy_policy(foo, 0)\n",
    "    assert np.array_equal(foo, eps_greedy), \"policy is not greedy\"\n",
    "\n",
    "# Test for uniform distribution, when eps=1\n",
    "eps_greedy = eps_greedy_policy(foo, 1)\n",
    "assert all(p==eps_greedy[0] for p in eps_greedy) and np.sum(eps_greedy)==1, \\\n",
    "\"policy does not return a uniform distribution for eps=1\"\n",
    "\n",
    "print('Test passed, good job!')"
   ]
  },
  {
   "cell_type": "markdown",
   "metadata": {
    "deletable": false,
    "editable": false,
    "nbgrader": {
     "cell_type": "markdown",
     "checksum": "21d88565b3663fe971606656dd045804",
     "grade": false,
     "grade_id": "cell-1dccaeebe5a41325",
     "locked": true,
     "schema_version": 3,
     "solution": false
    }
   },
   "source": [
    "### Task 2.2: Implement the Q-learning algorithm\n",
    "\n",
    "Now it's time to actually implement the Q-learning algorithm. Unlike the Value iteration where there is no direct interactions with the environment, the Q-learning algorithm builds up its estimations by interacting and exploring the environment. \n",
    "\n",
    "To enable the agent to explore the environment a set of helper functions are provided:"
   ]
  },
  {
   "cell_type": "code",
   "execution_count": 17,
   "metadata": {
    "deletable": false,
    "editable": false,
    "nbgrader": {
     "cell_type": "code",
     "checksum": "02bb92b833a3dc4e535cda13a4a1fae4",
     "grade": false,
     "grade_id": "cell-881edd2be439489e",
     "locked": true,
     "schema_version": 3,
     "solution": false
    }
   },
   "outputs": [
    {
     "name": "stdout",
     "output_type": "stream",
     "text": [
      "Help on function reset in module gridworld_mdp:\n",
      "\n",
      "reset(self)\n",
      "    Resets the environment and the agent is positioned in the initial state in the bottom left corner.\n",
      "    :return: state, reward, terminal\n",
      "\n"
     ]
    }
   ],
   "source": [
    "help(GridWorldMDP.reset)"
   ]
  },
  {
   "cell_type": "code",
   "execution_count": 18,
   "metadata": {
    "deletable": false,
    "editable": false,
    "nbgrader": {
     "cell_type": "code",
     "checksum": "589834a8662125b7792560c134990d91",
     "grade": false,
     "grade_id": "cell-061e7670ebd7b35c",
     "locked": true,
     "schema_version": 3,
     "solution": false
    }
   },
   "outputs": [
    {
     "name": "stdout",
     "output_type": "stream",
     "text": [
      "Help on function step in module gridworld_mdp:\n",
      "\n",
      "step(self, action)\n",
      "    Takes one step in the environment using the selected action\n",
      "    :param action: action to execute, integer\n",
      "    :return: state, reward, terminal\n",
      "\n"
     ]
    }
   ],
   "source": [
    "help(GridWorldMDP.step)"
   ]
  },
  {
   "cell_type": "markdown",
   "metadata": {
    "deletable": false,
    "editable": false,
    "nbgrader": {
     "cell_type": "markdown",
     "checksum": "8b92ae99e0b252016ed7040a0f706cec",
     "grade": false,
     "grade_id": "cell-15fa6bbf763cdc6f",
     "locked": true,
     "schema_version": 3,
     "solution": false
    }
   },
   "source": [
    "Implement your version of Q-learning in the cell below. \n",
    "\n",
    "**Hint:** It might be useful to study the pseudocode provided above. "
   ]
  },
  {
   "cell_type": "code",
   "execution_count": 19,
   "metadata": {
    "deletable": false,
    "nbgrader": {
     "cell_type": "code",
     "checksum": "465ba05d25e3bc7b0121f8a025b38831",
     "grade": true,
     "grade_id": "cell-3912d729d9527acd",
     "locked": false,
     "points": 0,
     "schema_version": 3,
     "solution": true
    }
   },
   "outputs": [],
   "source": [
    "def q_learning(eps, gamma):\n",
    "    Q = np.zeros([16, 4]) # state action value table\n",
    "    pi = np.zeros([16]) # greedy policy table\n",
    "    alpha = .01\n",
    "\n",
    "    # YOUR CODE HERE\n",
    "    min_delta = 1e-4\n",
    "    i = 0\n",
    "    while True:\n",
    "        s,_,t = mdp.reset()\n",
    "        delta = 0\n",
    "        while not t:\n",
    "            a = np.random.choice(4, p=eps_greedy_policy(Q[s], eps))\n",
    "            ss,r,t = mdp.step(a)\n",
    "            temp = Q[s, a]\n",
    "            Q[s, a] = Q[s, a] + alpha * (r + gamma * Q[ss].max() - Q[s, a])\n",
    "            delta = max(delta, abs(temp - Q[s, a]))\n",
    "            s = ss\n",
    "        i += 1\n",
    "        if delta < min_delta or i > 100000:\n",
    "            break\n",
    "            \n",
    "    pi = Q.argmax(axis=1)\n",
    "    \n",
    "    return pi, Q"
   ]
  },
  {
   "cell_type": "markdown",
   "metadata": {
    "deletable": false,
    "editable": false,
    "nbgrader": {
     "cell_type": "markdown",
     "checksum": "2db55b6a6838a75f15ef87f979ead425",
     "grade": false,
     "grade_id": "cell-b48032d234ecb11d",
     "locked": true,
     "schema_version": 3,
     "solution": false
    }
   },
   "source": [
    "Run Q-learning with  $\\epsilon = 1$ for the MDP with $\\gamma=0.99$"
   ]
  },
  {
   "cell_type": "code",
   "execution_count": 20,
   "metadata": {
    "deletable": false,
    "editable": false,
    "nbgrader": {
     "cell_type": "code",
     "checksum": "bebc79f9656b76b9e936221eb633cc4b",
     "grade": false,
     "grade_id": "cell-0464324eb2e2bf9c",
     "locked": true,
     "schema_version": 3,
     "solution": false
    }
   },
   "outputs": [
    {
     "name": "stdout",
     "output_type": "stream",
     "text": [
      "Policy for non-terminal states: \n",
      "---------------------\n",
      "| E | E | E | E | W | \n",
      "---------------------\n",
      "| N | N | N | W | E | \n",
      "---------------------\n",
      "| N | W | W | W | S | \n",
      "---------------------\n",
      "                            ---\n",
      "Policy for terminal state: | N |\n",
      "                            ---\n"
     ]
    }
   ],
   "source": [
    "pi, Q = q_learning(1, .99)\n",
    "print_policy(pi)"
   ]
  },
  {
   "cell_type": "markdown",
   "metadata": {
    "deletable": false,
    "editable": false,
    "nbgrader": {
     "cell_type": "markdown",
     "checksum": "9bc5026e570acf5162847f04d4b2daf3",
     "grade": false,
     "grade_id": "cell-a424df8abe557f2e",
     "locked": true,
     "schema_version": 3,
     "solution": false
    }
   },
   "source": [
    "Test your implementation by running the cell below"
   ]
  },
  {
   "cell_type": "code",
   "execution_count": 46,
   "metadata": {
    "deletable": false,
    "editable": false,
    "nbgrader": {
     "cell_type": "code",
     "checksum": "fe0420c08764bdf6ddec81e380ccf729",
     "grade": false,
     "grade_id": "cell-e2832d3538099d67",
     "locked": true,
     "schema_version": 3,
     "solution": false
    }
   },
   "outputs": [
    {
     "name": "stdout",
     "output_type": "stream",
     "text": [
      "Passed: policy test, for gamma=.99\n"
     ]
    }
   ],
   "source": [
    "test_q_learning(Q)"
   ]
  },
  {
   "cell_type": "markdown",
   "metadata": {
    "deletable": false,
    "editable": false,
    "nbgrader": {
     "cell_type": "markdown",
     "checksum": "49f7e5d4884836a1c3c968b767d51f40",
     "grade": false,
     "grade_id": "cell-d3623c3f5c170bd4",
     "locked": true,
     "schema_version": 3,
     "solution": false
    }
   },
   "source": [
    "Run Q-learning with $\\epsilon=0$"
   ]
  },
  {
   "cell_type": "code",
   "execution_count": 49,
   "metadata": {
    "deletable": false,
    "editable": false,
    "nbgrader": {
     "cell_type": "code",
     "checksum": "8913eaf75e0f0d1c388d682d5767e0e6",
     "grade": false,
     "grade_id": "cell-1c095409c30320d7",
     "locked": true,
     "schema_version": 3,
     "solution": false
    }
   },
   "outputs": [
    {
     "name": "stdout",
     "output_type": "stream",
     "text": [
      "Policy for non-terminal states: \n",
      "---------------------\n",
      "| N | N | N | N | N | \n",
      "---------------------\n",
      "| N | N | N | N | W | \n",
      "---------------------\n",
      "| N | N | N | N | W | \n",
      "---------------------\n",
      "                            ---\n",
      "Policy for terminal state: | N |\n",
      "                            ---\n"
     ]
    }
   ],
   "source": [
    "pi, Q = q_learning(0, .99)\n",
    "print_policy(pi)"
   ]
  },
  {
   "cell_type": "markdown",
   "metadata": {
    "deletable": false,
    "editable": false,
    "nbgrader": {
     "cell_type": "markdown",
     "checksum": "f4ed5b3b1c4eba1dbd9a0e1d02b109fd",
     "grade": false,
     "grade_id": "cell-d3383d13bae73e68",
     "locked": true,
     "schema_version": 3,
     "solution": false
    }
   },
   "source": [
    "**(2 POE)** You ran your implementation with $\\epsilon$ set to both 0 and 1. Did both values yield the same solution? Why?"
   ]
  },
  {
   "cell_type": "markdown",
   "metadata": {
    "deletable": false,
    "nbgrader": {
     "cell_type": "markdown",
     "checksum": "baeb0f64a59a28003b946728ae322959",
     "grade": true,
     "grade_id": "cell-54eb158e84c99275",
     "locked": false,
     "points": 2,
     "schema_version": 3,
     "solution": true
    }
   },
   "source": [
    "**Your answer:** <br>\n",
    "According to the $\\varepsilon$-greedy policy, when $\\varepsilon = 0$, we use a fully-greedy policy (always choose the action which gives the maximum action value). This means the agent will not explore at all, just takes greedy action right from the start. Since the values of Q are all intialized to zeros in the beginning, choosing greedily with respect to the initial Q will be bad. As seen before, the agent usually chooses to go North). \n",
    "\n",
    "When $\\varepsilon = 1$, we use a uniform-random policy (all actions are same probability to be chosen at any timestep). This means the agent will always explore. If we make this algorithm long enough, the agent will finally find the accurate $Q^*$ because it will explore all the possible paths. And with the accurate $Q^*$, we can find the optimal policy by choosing greedily with it. Since value iteration converges to the optimal policy, it means Q-learning with $\\varepsilon = 1$ will give the same policy as value iteration."
   ]
  },
  {
   "cell_type": "markdown",
   "metadata": {
    "deletable": false,
    "editable": false,
    "nbgrader": {
     "cell_type": "markdown",
     "checksum": "c6cdd6e9ccd7d28aa39e0c720ce39160",
     "grade": false,
     "grade_id": "cell-ae2a001335118014",
     "locked": true,
     "schema_version": 3,
     "solution": false
    }
   },
   "source": [
    "# Task 3: Deep Double Q-learning (DDQN)\n",
    "For this task, you will implement a DDQN (double deep Q-learning network) to solve one of the problems of the OpenAI gym. Before we get into details about these type of networks, let's first review the simpler, DQN (deep Q-learning network) version. \n",
    "\n",
    "#### Deep Q Networks\n",
    "As we saw in the video lectures, using a neural network as a state action value approximator is a great idea. However, if one tries to use this approach with Q-learning, it's very likely that the optimization will be very unstable. To remediate this, two main ideas are used. First, we use experience replay, in order to decorrelate the experience samples we obtain when exploring the environment. Second, we use two networks instead of one, in order to fix the optimization targets. That is, for a given minibatch sampled from the replay buffer, we'll optimize the weights of only one of the networks (commonly denoted as the \"online\" network), using the gradients w.r.t a loss function. This loss function is computed as the mean squared error between the current action values, computed according to the **online** network, and the Q targets, computed using the other, **fixed network** (which we'll also refer to as the target network or offline network).\n",
    "\n",
    "That is, the loss function is \n",
    "\n",
    "$$ L(\\theta) = \\frac{1}{N}\\sum_{i=1}^N \\left(Q(s_i,a_i; \\theta\\right) - Y_i)^2~,$$\n",
    "\n",
    "where $N$ is the number of samples in your minibatch, $Q(s,a;\\theta)$ is the state action value estimate, according to the online network (with parameters $\\theta$), and $Y_t$ is the Q target, computed as\n",
    "\n",
    "$$ Y_i = r_i +  \\gamma ~\\underset{a}{\\text{max}}~Q(s_i', a; \\theta^-)~, $$\n",
    "\n",
    "where $Q(s', a;\\theta')$ is the action value estimate, according to the fixed network (with parameters $\\theta^-$).\n",
    "\n",
    "Finally, so that the offline parameters are also updated, we periodically copy the parameters from the online to the fixed network.\n",
    "\n",
    "#### Double Deep Q Networks\n",
    "\n",
    "The idea explained above works well in practice, but later it was discovered that this approach is very prone to overestimating the state action values. The main reason for this is that the max operator, used to select the greedy action when computing the Q target, uses the same values both to select and to evaluate an action (this tends to prefer overestimated actions). In order to prevent this, we can decouple the selection from the evaluation, which is the idea that created DDQN. More concretely, the Q target for a DDQN is now \n",
    "\n",
    "$$ Y_i = r_i + \\gamma Q(s_i', \\underset{a}{\\text{argmax}}Q(s_i',a;\\theta); \\theta^-)~. $$\n",
    "\n",
    "Hence, we're using the **online** network to select which action is best, but we use the **fixed** network to evaluate the state action value for that chosen action in the next state. This is what makes DDQN not overestimate (as much) the state action values, which in turn helps us to train faster and obtain better policies.\n",
    "\n",
    "#### Target notation\n",
    "\n",
    "Several different optimization targets which are estimated with some $q$ function are often jointly referred to as \"TD targets\".\n",
    "We strive to be consistent and separate on-policy \"TD(0) targets\" and off-policy \"Q targets\" but in other places this distinction may be less clear."
   ]
  },
  {
   "cell_type": "markdown",
   "metadata": {
    "deletable": false,
    "editable": false,
    "nbgrader": {
     "cell_type": "markdown",
     "checksum": "dfc49ab7f1405c6ecbebfcc1b01d9456",
     "grade": false,
     "grade_id": "cell-b37fc5ebe369b45a",
     "locked": true,
     "schema_version": 3,
     "solution": false
    }
   },
   "source": [
    "#### Environment\n",
    "\n",
    "The problem you will solve for this task is the inverted pendulum problem. \n",
    "On [Open AIs environment documentation](https://gym.openai.com/envs/CartPole-v0) , the following description is provided:\n",
    "\n",
    "*A pole is attached by an un-actuated joint to a cart, which moves along a frictionless track. The system is controlled by applying a force of +1 or -1 to the cart. The pendulum starts upright, and the goal is to prevent it from falling over. A reward of +1 is provided for every time step that the pole remains upright. The episode ends when the pole is more than 15 degrees from vertical, or the cart moves more than 2.4 units from the center.*\n",
    "\n",
    "Furthermore, the episode will automatically end if 200 steps are reached, as explained [here](https://github.com/openai/gym/wiki/CartPole-v0#episode-termination).\n",
    "\n",
    "![title](./cartpole.jpg)"
   ]
  },
  {
   "cell_type": "markdown",
   "metadata": {
    "deletable": false,
    "editable": false,
    "nbgrader": {
     "cell_type": "markdown",
     "checksum": "74de453978cf5a4ced5167cc4bed7cc9",
     "grade": false,
     "grade_id": "cell-920f9802c12678ca",
     "locked": true,
     "schema_version": 3,
     "solution": false,
     "task": false
    }
   },
   "source": [
    "#### Run the cell below to see a video illustration of the environment"
   ]
  },
  {
   "cell_type": "code",
   "execution_count": null,
   "metadata": {
    "deletable": false,
    "editable": false,
    "nbgrader": {
     "cell_type": "code",
     "checksum": "185ad818161c47503d9eea9d466d890f",
     "grade": false,
     "grade_id": "cell-bc01c34a37f53b30",
     "locked": true,
     "schema_version": 3,
     "solution": false,
     "task": false
    }
   },
   "outputs": [],
   "source": [
    "from IPython.lib.display import YouTubeVideo\n",
    "YouTubeVideo('46wjA6dqxOM')"
   ]
  },
  {
   "cell_type": "markdown",
   "metadata": {
    "deletable": false,
    "editable": false,
    "nbgrader": {
     "cell_type": "markdown",
     "checksum": "4ac323ef2aa16dc7e60404564799578e",
     "grade": false,
     "grade_id": "cell-181515edc2a1f7a2",
     "locked": true,
     "schema_version": 3,
     "solution": false,
     "task": false
    }
   },
   "source": [
    "#### Implementation\n",
    "We'll solve this task using a DDQN. Most of the code is provided for you, in the file **ddqn_model.py**. This file contains the implementation of a neural network, which is described in the table below (feel free to experiment with different architectures).\n",
    "\n",
    "|Layer 1: units, activation | Layer 2: units, activation | Layer 3: units, activation | Cost function |\n",
    "|---------------------------|----------------------------|----------------------------|---------------|\n",
    "| 100, ReLu                 | 60, ReLu                   | number of actions, linear | MSE           |\n",
    "\n",
    "There are however a few key parts missing from the code, that are to be implemented in the following three functions:\n",
    "- `calc_q_and_take_action`\n",
    "- `calculate_q_targets`\n",
    "- `sample_batch_and_calculate_loss`\n",
    "\n",
    "These will then be called from the function `train_loop_ddqn`, which runs the main loop for training the model in the cart-pole environment."
   ]
  },
  {
   "cell_type": "markdown",
   "metadata": {
    "deletable": false,
    "editable": false,
    "nbgrader": {
     "cell_type": "markdown",
     "checksum": "6a3f41b77af244ce39e5b0d67fb70574",
     "grade": false,
     "grade_id": "cell-8ef4581670ad2682",
     "locked": true,
     "schema_version": 3,
     "solution": false,
     "task": false
    }
   },
   "source": [
    "## Task 3.1:  Calculate Q-values & take action\n",
    "Calculate Q-values for the current state, and decide on which action to take. Use an epsilon-greedy behavioral policy, and feel free to re-use the `epsilon_greedy_policy` function that you defined for the Q-learning part.\n",
    "\n",
    "This function will be used to control the agent's behavior in the environment, but the actual training will be done later, for entire mini-batches sampled from the replay buffer."
   ]
  },
  {
   "cell_type": "code",
   "execution_count": 21,
   "metadata": {
    "deletable": false,
    "nbgrader": {
     "cell_type": "code",
     "checksum": "11b49f38d1c8c58675a45663d69505d8",
     "grade": true,
     "grade_id": "cell-5ef2ca4ae83dd031",
     "locked": false,
     "points": 0,
     "schema_version": 3,
     "solution": true,
     "task": false
    }
   },
   "outputs": [],
   "source": [
    "def calc_q_and_take_action(ddqn, state, eps):\n",
    "    '''\n",
    "    Calculate Q-values for current state, and take an action according to an epsilon-greedy policy.\n",
    "    Inputs:\n",
    "        ddqn   - DDQN model. An object holding the online / offline Q-networks, and some related methods.\n",
    "        state  - Current state. Numpy array, shape (1, num_states).\n",
    "        eps    - Exploration parameter.\n",
    "    Returns:\n",
    "        q_online_curr   - Q(s,a) for current state s. Numpy array, shape (1, num_actions) or  (num_actions,).\n",
    "        curr_action     - Selected action (0 or 1, i.e. left or right), sampled from epsilon-greedy policy. Integer.\n",
    "    '''\n",
    "    # FYI:\n",
    "    # ddqn.online_model & ddqn.offline_model are Pytorch modules for online / offline Q-networks, which take the state as input, and output the Q-values for all actions.\n",
    "    # Input shape (batch_size, num_states). Output shape (batch_size, num_actions).\n",
    "\n",
    "    # YOUR CODE HERE\n",
    "    q_online_curr = ddqn.online_model(torch.from_numpy(state).float())[0].detach().numpy()\n",
    "    curr_action = np.random.choice(2, p=eps_greedy_policy(q_online_curr, eps))\n",
    "    \n",
    "    return q_online_curr, curr_action"
   ]
  },
  {
   "cell_type": "code",
   "execution_count": 22,
   "metadata": {},
   "outputs": [
    {
     "data": {
      "text/plain": [
       "2"
      ]
     },
     "execution_count": 22,
     "metadata": {},
     "output_type": "execute_result"
    }
   ],
   "source": [
    "t = torch.Tensor([[1,2,3], [4,5,6]])\n",
    "t.dim()\n",
    "n = np.array([[1,2,3], [4,5,6]])\n",
    "torch.from_numpy(n).dim()"
   ]
  },
  {
   "cell_type": "markdown",
   "metadata": {
    "deletable": false,
    "editable": false,
    "nbgrader": {
     "cell_type": "markdown",
     "checksum": "1cce1e1a968c529d5c6f20832281d92f",
     "grade": false,
     "grade_id": "cell-ae647de789982b2e",
     "locked": true,
     "schema_version": 3,
     "solution": false
    }
   },
   "source": [
    "## Task 3.2:  Calculate Q target\n",
    "\n",
    "**(2 POE)**\n",
    "\n",
    "For this task, you will calculate the temporal difference target used for the loss in the double Q-learning algorithm. Your implementation should follow precisely the equation defined above for the Q target of DDQNs, with one exception: when s' is terminal, the Q target for it should simply be $ Y_i = r_i$. Why is this necessary?"
   ]
  },
  {
   "cell_type": "markdown",
   "metadata": {
    "deletable": false,
    "nbgrader": {
     "cell_type": "markdown",
     "checksum": "3d0922a476a654975d99168051d86bbd",
     "grade": true,
     "grade_id": "cell-d28bf13d3d581368",
     "locked": false,
     "points": 2,
     "schema_version": 3,
     "solution": true
    }
   },
   "source": [
    "**Your answer:**\n",
    "The term $\\gamma Q(s_i', \\underset{a}{\\text{argmax}}Q(s_i',a;\\theta); \\theta^-) $ can be problematic for some environments where executing action $a$ from terminal state $s_i'$ could brind the agent to a non-terminal state $s_i''$. In this particular example, the agent is given a positive reward for ever time step until it reaches a terminal state. If $s_i'$ indicates that the agent is located 2.401 steps from the center (i.e. in a terminal state), then $\\underset{a}{\\text{argmax}}Q(s_i',a;\\theta)$ may return an action that brings the agent back to a non-terminal state. The q-value for such an action might be very large since it would allow the agent to recover, which makes little sense as the agent has failed its task by drifting too far away."
   ]
  },
  {
   "cell_type": "markdown",
   "metadata": {
    "deletable": false,
    "editable": false,
    "nbgrader": {
     "cell_type": "markdown",
     "checksum": "f6a429aaede47e041414f7fac4093390",
     "grade": false,
     "grade_id": "cell-26a12456d7c70776",
     "locked": true,
     "schema_version": 3,
     "solution": false
    }
   },
   "source": [
    "Implement your function in the following cell."
   ]
  },
  {
   "cell_type": "code",
   "execution_count": 23,
   "metadata": {
    "deletable": false,
    "nbgrader": {
     "cell_type": "code",
     "checksum": "c687cccc16fa05e24be65eb204d4ed01",
     "grade": true,
     "grade_id": "cell-e73bca0bd9d5574a",
     "locked": false,
     "points": 0,
     "schema_version": 3,
     "solution": true
    }
   },
   "outputs": [],
   "source": [
    "def calculate_q_targets(q1_batch, q2_batch, r_batch, nonterminal_batch, gamma=.99):\n",
    "    '''\n",
    "    Calculates the Q target used for the loss\n",
    "    : param q1_batch: Batch of Q(s', a) from online network. FloatTensor, shape (N, num actions)\n",
    "    : param q2_batch: Batch of Q(s', a) from target network. FloatTensor, shape (N, num actions)\n",
    "    : param r_batch: Batch of rewards. FloatTensor, shape (N,)\n",
    "    : param nonterminal_batch: Batch of booleans, with False elements if state s' is terminal and True otherwise. BoolTensor, shape (N,)\n",
    "    : param gamma: Discount factor, float.\n",
    "    : return: Q target. FloatTensor, shape (N,)\n",
    "    '''\n",
    "    # YOUR CODE HERE\n",
    "    Y = r_batch + gamma \\\n",
    "        * q2_batch[np.arange(len(q2_batch)), q1_batch.argmax(axis=1)] \\\n",
    "        * nonterminal_batch.float()\n",
    "    \n",
    "    return Y"
   ]
  },
  {
   "cell_type": "markdown",
   "metadata": {
    "deletable": false,
    "editable": false,
    "nbgrader": {
     "cell_type": "markdown",
     "checksum": "198cb1c800b2c103c9fcdfeb9fd45eda",
     "grade": false,
     "grade_id": "cell-b4a77bdb942ce919",
     "locked": true,
     "schema_version": 3,
     "solution": false,
     "task": false
    }
   },
   "source": [
    "Test your implementation by running the cell below"
   ]
  },
  {
   "cell_type": "code",
   "execution_count": 24,
   "metadata": {
    "deletable": false,
    "editable": false,
    "nbgrader": {
     "cell_type": "code",
     "checksum": "4af0353db8e6b8d9a87cf6069fd2f1e8",
     "grade": false,
     "grade_id": "cell-bd5e9c36540130c0",
     "locked": true,
     "schema_version": 3,
     "solution": false,
     "task": false
    }
   },
   "outputs": [
    {
     "name": "stdout",
     "output_type": "stream",
     "text": [
      "Passed: Calculate Q targets test, for function \"calculate_q_targets\"\n"
     ]
    }
   ],
   "source": [
    "import dqn_model\n",
    "import torch\n",
    "dqn_model.test_calculate_q_targets(calculate_q_targets)"
   ]
  },
  {
   "cell_type": "markdown",
   "metadata": {
    "deletable": false,
    "editable": false,
    "nbgrader": {
     "cell_type": "markdown",
     "checksum": "417be01d6f312fba6f7cb28d49682db8",
     "grade": false,
     "grade_id": "cell-90601693d1f77faf",
     "locked": true,
     "schema_version": 3,
     "solution": false,
     "task": false
    }
   },
   "source": [
    "## Task 3.3: Calculate mini-batch Q-values\n",
    "\n",
    "Use the online & offline Q-networks to calculate the Q-values for a minibatch. These will then be used to calculate the mini-batch loss by the end of the function.\n",
    "\n",
    "You will need to define three tensors:\n",
    "- `q_online_curr`: $Q(s,a; \\theta), \\ \\forall a$\n",
    "- `q_online_next`: $Q(s',a; \\theta), \\ \\forall a$\n",
    "- `q_offline_next`: $Q(s',a; \\theta^-), \\ \\forall a$\n",
    "\n",
    "Take great care to make sure gradient computation is enabled / disabled where it should. `torch.no_grad()` is your friend here (see [Pytorch docs](https://pytorch.org/docs/stable/torch.html#locally-disabling-gradient-computation))."
   ]
  },
  {
   "cell_type": "code",
   "execution_count": 25,
   "metadata": {
    "deletable": false,
    "nbgrader": {
     "cell_type": "code",
     "checksum": "7f509075cd7348d26dc5a94b8c34b8ba",
     "grade": true,
     "grade_id": "cell-f716681cdc0fca13",
     "locked": false,
     "points": 0,
     "schema_version": 3,
     "solution": true,
     "task": false
    }
   },
   "outputs": [],
   "source": [
    "def sample_batch_and_calculate_loss(ddqn, replay_buffer, batch_size, gamma):\n",
    "    '''\n",
    "    Sample mini-batch from replay buffer, and compute the mini-batch loss\n",
    "    Inputs:\n",
    "        ddqn          - DDQN model. An object holding the online / offline Q-networks, and some related methods.\n",
    "        replay_buffer - Replay buffer object (from which smaples will be drawn)\n",
    "        batch_size    - Batch size\n",
    "        gamma         - Discount factor\n",
    "    Returns:\n",
    "        Mini-batch loss, on which .backward() will be called to compute gradient.\n",
    "    '''\n",
    "    # Sample a minibatch of transitions from replay buffer\n",
    "    curr_state, curr_action, reward, next_state, nonterminal = replay_buffer.sample_minibatch(batch_size)\n",
    "\n",
    "    # FYI:\n",
    "    # ddqn.online_model & ddqn.offline_model are Pytorch modules for online / offline Q-networks, which take the state as input, and output the Q-values for all actions.\n",
    "    # Input shape (batch_size, num_states). Output shape (batch_size, num_actions).\n",
    "\n",
    "    # YOUR CODE HERE\n",
    "    q_online_curr = ddqn.online_model(curr_state)\n",
    "    q_online_next = ddqn.online_model(next_state)\n",
    "    with torch.no_grad():\n",
    "        q_offline_next = ddqn.offline_model(next_state)\n",
    "\n",
    "    q_target = calculate_q_targets(q_online_next, q_offline_next, reward, nonterminal, gamma=gamma)\n",
    "    loss = ddqn.calc_loss(q_online_curr, q_target, curr_action)\n",
    "\n",
    "    return loss"
   ]
  },
  {
   "cell_type": "markdown",
   "metadata": {
    "deletable": false,
    "editable": false,
    "nbgrader": {
     "cell_type": "markdown",
     "checksum": "1d2adc8d2e6496636b23a31f36e394ac",
     "grade": false,
     "grade_id": "cell-401656fa71e3f227",
     "locked": true,
     "schema_version": 3,
     "solution": false
    }
   },
   "source": [
    "Test your implementation by trying to solve the reinforcement learning problem for the Cartpole environment. The `train_loop_ddqn` function defined below will be called later."
   ]
  },
  {
   "cell_type": "code",
   "execution_count": 26,
   "metadata": {
    "deletable": false,
    "editable": false,
    "nbgrader": {
     "cell_type": "code",
     "checksum": "fb5047b8217c7e97d2c27e4e51a3f71b",
     "grade": false,
     "grade_id": "cell-f3d381be408141e6",
     "locked": true,
     "schema_version": 3,
     "solution": false,
     "task": false
    }
   },
   "outputs": [],
   "source": [
    "# Import dependencies\n",
    "import torch\n",
    "import numpy as np\n",
    "import gym\n",
    "from collections import namedtuple\n",
    "from dqn_model import DoubleQLearningModel, ExperienceReplay"
   ]
  },
  {
   "cell_type": "code",
   "execution_count": 27,
   "metadata": {},
   "outputs": [],
   "source": [
    "# CPU should be enough, but feel free to play around with this if you want to.\n",
    "device = torch.device(\"cpu\")\n",
    "# device = torch.device(\"cuda\" if torch.cuda.is_available() else \"cpu\")"
   ]
  },
  {
   "cell_type": "code",
   "execution_count": 28,
   "metadata": {
    "deletable": false,
    "editable": false,
    "nbgrader": {
     "cell_type": "code",
     "checksum": "ff585600fcd9c1884e390e14530665b7",
     "grade": false,
     "grade_id": "cell-a9e3d9e027c537be",
     "locked": true,
     "schema_version": 3,
     "solution": false,
     "task": false
    }
   },
   "outputs": [],
   "source": [
    "def train_loop_ddqn(ddqn, env, replay_buffer, num_episodes, enable_visualization=False, batch_size=64, gamma=.94):        \n",
    "    Transition = namedtuple(\"Transition\", [\"s\", \"a\", \"r\", \"next_s\", \"t\"])\n",
    "    eps = 1.\n",
    "    eps_end = .1 \n",
    "    eps_decay = .001\n",
    "    tau = 1000\n",
    "    cnt_updates = 0\n",
    "    R_buffer = []\n",
    "    R_avg = []\n",
    "    for i in range(num_episodes):\n",
    "        state = env.reset() # Initial state\n",
    "        state = state[None,:] # Add singleton dimension, to represent as batch of size 1.\n",
    "        finish_episode = False # Initialize\n",
    "        ep_reward = 0 # Initialize \"Episodic reward\", i.e. the total reward for episode, when disregarding discount factor.\n",
    "        q_buffer = []\n",
    "        steps = 0\n",
    "        while not finish_episode:\n",
    "            if enable_visualization:\n",
    "                env.render() # comment this line out if you don't want to / cannot render the environment on your system\n",
    "            steps += 1\n",
    "\n",
    "            # Take one step in environment. No need to compute gradients,\n",
    "            # we will just store transition to replay buffer, and later sample a whole batch\n",
    "            # from the replay buffer to actually take a gradient step.\n",
    "            q_online_curr, curr_action = calc_q_and_take_action(ddqn, state, eps)\n",
    "            q_buffer.append(q_online_curr)\n",
    "            new_state, reward, finish_episode, _ = env.step(curr_action) # take one step in the evironment\n",
    "            new_state = new_state[None,:]\n",
    "            \n",
    "            # Assess whether terminal state was reached.\n",
    "            # The episode may end due to having reached 200 steps, but we should not regard this as reaching the terminal state, and hence not disregard Q(s',a) from the Q target.\n",
    "            # https://arxiv.org/abs/1712.00378\n",
    "            nonterminal_to_buffer = not finish_episode or steps == 200\n",
    "            \n",
    "            # Store experienced transition to replay buffer\n",
    "            replay_buffer.add(Transition(s=state, a=curr_action, r=reward, next_s=new_state, t=nonterminal_to_buffer))\n",
    "\n",
    "            state = new_state\n",
    "            ep_reward += reward\n",
    "            \n",
    "            # If replay buffer contains more than 1000 samples, perform one training step\n",
    "            if replay_buffer.buffer_length > 1000:\n",
    "                loss = sample_batch_and_calculate_loss(ddqn, replay_buffer, batch_size, gamma)\n",
    "                ddqn.optimizer.zero_grad()\n",
    "                loss.backward()\n",
    "                ddqn.optimizer.step()\n",
    "\n",
    "                cnt_updates += 1\n",
    "                if cnt_updates % tau == 0:\n",
    "                    ddqn.update_target_network()\n",
    "                \n",
    "        eps = max(eps - eps_decay, eps_end) # decrease epsilon        \n",
    "        R_buffer.append(ep_reward)\n",
    "        \n",
    "        # Running average of episodic rewards (total reward, disregarding discount factor)\n",
    "        R_avg.append(.05 * R_buffer[i] + .95 * R_avg[i-1]) if i > 0 else R_avg.append(R_buffer[i])\n",
    "\n",
    "        print('Episode: {:d}, Total Reward (running avg): {:4.0f} ({:.2f}) Epsilon: {:.3f}, Avg Q: {:.4g}'.format(i, ep_reward, R_avg[-1], eps, np.mean(np.array(q_buffer))))\n",
    "        \n",
    "        # If running average > 195 (close to 200), the task is considered solved\n",
    "        if R_avg[-1] > 195:\n",
    "            return R_buffer, R_avg\n",
    "    return R_buffer, R_avg"
   ]
  },
  {
   "cell_type": "markdown",
   "metadata": {
    "deletable": false,
    "editable": false,
    "nbgrader": {
     "cell_type": "markdown",
     "checksum": "9ff3d12dbaa29a8363e5a83c5c794cb5",
     "grade": false,
     "grade_id": "cell-75c84628ce999711",
     "locked": true,
     "schema_version": 3,
     "solution": false
    }
   },
   "source": [
    "The following cell performs the actual training. \n",
    "\n",
    "A Working implementation should start to improve after 500 episodes. An episodic reward of around 200 is likely to be achieved after 800 episodes for a batchsize of 128, and 1000 episodes for a batchsize of 64.\n",
    "\n",
    "**Note:** The `enable_visualization` flag controls whether a visualization of the cart-pole environment will be plotted. In many environments, this is however not working properly, for which reason it is disabled by default."
   ]
  },
  {
   "cell_type": "code",
   "execution_count": 29,
   "metadata": {},
   "outputs": [
    {
     "name": "stdout",
     "output_type": "stream",
     "text": [
      "Episode: 0, Total Reward (running avg):   16 (16.00) Epsilon: 0.999, Avg Q: -2.906e-07\n",
      "Episode: 1, Total Reward (running avg):   17 (16.05) Epsilon: 0.998, Avg Q: -1.799e-09\n",
      "Episode: 2, Total Reward (running avg):   37 (17.10) Epsilon: 0.997, Avg Q: -5.518e-08\n",
      "Episode: 3, Total Reward (running avg):   49 (18.69) Epsilon: 0.996, Avg Q: 1.445e-08\n",
      "Episode: 4, Total Reward (running avg):   14 (18.46) Epsilon: 0.995, Avg Q: -2.492e-08\n",
      "Episode: 5, Total Reward (running avg):   33 (19.19) Epsilon: 0.994, Avg Q: -5.349e-08\n",
      "Episode: 6, Total Reward (running avg):   33 (19.88) Epsilon: 0.993, Avg Q: -1.347e-07\n",
      "Episode: 7, Total Reward (running avg):   31 (20.43) Epsilon: 0.992, Avg Q: -1.883e-07\n",
      "Episode: 8, Total Reward (running avg):   30 (20.91) Epsilon: 0.991, Avg Q: -1.307e-07\n",
      "Episode: 9, Total Reward (running avg):   13 (20.51) Epsilon: 0.990, Avg Q: -4.682e-07\n",
      "Episode: 10, Total Reward (running avg):   14 (20.19) Epsilon: 0.989, Avg Q: 6.138e-09\n",
      "Episode: 11, Total Reward (running avg):   20 (20.18) Epsilon: 0.988, Avg Q: -2.464e-07\n",
      "Episode: 12, Total Reward (running avg):   31 (20.72) Epsilon: 0.987, Avg Q: -1.591e-07\n",
      "Episode: 13, Total Reward (running avg):   29 (21.13) Epsilon: 0.986, Avg Q: -2.521e-07\n",
      "Episode: 14, Total Reward (running avg):   46 (22.38) Epsilon: 0.985, Avg Q: -1.528e-07\n",
      "Episode: 15, Total Reward (running avg):   26 (22.56) Epsilon: 0.984, Avg Q: -4.354e-08\n",
      "Episode: 16, Total Reward (running avg):   36 (23.23) Epsilon: 0.983, Avg Q: -1.567e-07\n",
      "Episode: 17, Total Reward (running avg):   13 (22.72) Epsilon: 0.982, Avg Q: -7.013e-08\n",
      "Episode: 18, Total Reward (running avg):   15 (22.33) Epsilon: 0.981, Avg Q: -2.804e-08\n",
      "Episode: 19, Total Reward (running avg):   19 (22.17) Epsilon: 0.980, Avg Q: -2.323e-07\n",
      "Episode: 20, Total Reward (running avg):   34 (22.76) Epsilon: 0.979, Avg Q: -1.842e-07\n",
      "Episode: 21, Total Reward (running avg):   27 (22.97) Epsilon: 0.978, Avg Q: 2.456e-08\n",
      "Episode: 22, Total Reward (running avg):   11 (22.37) Epsilon: 0.977, Avg Q: -4.009e-07\n",
      "Episode: 23, Total Reward (running avg):   22 (22.35) Epsilon: 0.976, Avg Q: -1.317e-08\n",
      "Episode: 24, Total Reward (running avg):   14 (21.94) Epsilon: 0.975, Avg Q: -3.091e-08\n",
      "Episode: 25, Total Reward (running avg):   25 (22.09) Epsilon: 0.974, Avg Q: -2.466e-07\n",
      "Episode: 26, Total Reward (running avg):   35 (22.73) Epsilon: 0.973, Avg Q: -2.244e-07\n",
      "Episode: 27, Total Reward (running avg):   29 (23.05) Epsilon: 0.972, Avg Q: -1.994e-07\n",
      "Episode: 28, Total Reward (running avg):   30 (23.40) Epsilon: 0.971, Avg Q: -2.083e-07\n",
      "Episode: 29, Total Reward (running avg):   35 (23.98) Epsilon: 0.970, Avg Q: -1.75e-07\n",
      "Episode: 30, Total Reward (running avg):   34 (24.48) Epsilon: 0.969, Avg Q: -1.542e-07\n",
      "Episode: 31, Total Reward (running avg):   33 (24.90) Epsilon: 0.968, Avg Q: -6.182e-08\n",
      "Episode: 32, Total Reward (running avg):   21 (24.71) Epsilon: 0.967, Avg Q: -2.208e-07\n",
      "Episode: 33, Total Reward (running avg):   14 (24.17) Epsilon: 0.966, Avg Q: -3.978e-07\n",
      "Episode: 34, Total Reward (running avg):   91 (27.51) Epsilon: 0.965, Avg Q: -2.518e-08\n",
      "Episode: 35, Total Reward (running avg):   44 (28.34) Epsilon: 0.964, Avg Q: 0.02046\n",
      "Episode: 36, Total Reward (running avg):   17 (27.77) Epsilon: 0.963, Avg Q: 0.1823\n",
      "Episode: 37, Total Reward (running avg):   21 (27.43) Epsilon: 0.962, Avg Q: 0.1949\n",
      "Episode: 38, Total Reward (running avg):   14 (26.76) Epsilon: 0.961, Avg Q: 0.46\n",
      "Episode: 39, Total Reward (running avg):   28 (26.82) Epsilon: 0.960, Avg Q: 0.4833\n",
      "Episode: 40, Total Reward (running avg):   43 (27.63) Epsilon: 0.959, Avg Q: 0.5627\n",
      "Episode: 41, Total Reward (running avg):   14 (26.95) Epsilon: 0.958, Avg Q: 0.6405\n",
      "Episode: 42, Total Reward (running avg):   34 (27.30) Epsilon: 0.957, Avg Q: 0.5893\n",
      "Episode: 43, Total Reward (running avg):   26 (27.24) Epsilon: 0.956, Avg Q: 0.7077\n",
      "Episode: 44, Total Reward (running avg):   16 (26.68) Epsilon: 0.955, Avg Q: 0.8428\n",
      "Episode: 45, Total Reward (running avg):   15 (26.09) Epsilon: 0.954, Avg Q: 0.9023\n",
      "Episode: 46, Total Reward (running avg):   23 (25.94) Epsilon: 0.953, Avg Q: 0.7376\n",
      "Episode: 47, Total Reward (running avg):   41 (26.69) Epsilon: 0.952, Avg Q: 0.7079\n",
      "Episode: 48, Total Reward (running avg):   20 (26.36) Epsilon: 0.951, Avg Q: 0.8145\n",
      "Episode: 49, Total Reward (running avg):   20 (26.04) Epsilon: 0.950, Avg Q: 0.9994\n",
      "Episode: 50, Total Reward (running avg):   35 (26.49) Epsilon: 0.949, Avg Q: 0.8045\n",
      "Episode: 51, Total Reward (running avg):   13 (25.81) Epsilon: 0.948, Avg Q: 1.046\n",
      "Episode: 52, Total Reward (running avg):   11 (25.07) Epsilon: 0.947, Avg Q: 1.182\n",
      "Episode: 53, Total Reward (running avg):   18 (24.72) Epsilon: 0.946, Avg Q: 0.7791\n",
      "Episode: 54, Total Reward (running avg):   20 (24.48) Epsilon: 0.945, Avg Q: 0.8964\n",
      "Episode: 55, Total Reward (running avg):   22 (24.36) Epsilon: 0.944, Avg Q: 1.125\n",
      "Episode: 56, Total Reward (running avg):   19 (24.09) Epsilon: 0.943, Avg Q: 0.9776\n",
      "Episode: 57, Total Reward (running avg):    9 (23.34) Epsilon: 0.942, Avg Q: 1.03\n",
      "Episode: 58, Total Reward (running avg):   11 (22.72) Epsilon: 0.941, Avg Q: 1.302\n",
      "Episode: 59, Total Reward (running avg):   20 (22.58) Epsilon: 0.940, Avg Q: 0.9207\n",
      "Episode: 60, Total Reward (running avg):   16 (22.25) Epsilon: 0.939, Avg Q: 0.9965\n",
      "Episode: 61, Total Reward (running avg):   10 (21.64) Epsilon: 0.938, Avg Q: 1.025\n",
      "Episode: 62, Total Reward (running avg):   12 (21.16) Epsilon: 0.937, Avg Q: 1.037\n",
      "Episode: 63, Total Reward (running avg):   30 (21.60) Epsilon: 0.936, Avg Q: 0.8682\n",
      "Episode: 64, Total Reward (running avg):   42 (22.62) Epsilon: 0.935, Avg Q: 0.8798\n",
      "Episode: 65, Total Reward (running avg):   26 (22.79) Epsilon: 0.934, Avg Q: 0.9306\n",
      "Episode: 66, Total Reward (running avg):   18 (22.55) Epsilon: 0.933, Avg Q: 0.9671\n",
      "Episode: 67, Total Reward (running avg):   18 (22.32) Epsilon: 0.932, Avg Q: 0.934\n",
      "Episode: 68, Total Reward (running avg):   22 (22.31) Epsilon: 0.931, Avg Q: 0.9653\n",
      "Episode: 69, Total Reward (running avg):   45 (23.44) Epsilon: 0.930, Avg Q: 1.118\n",
      "Episode: 70, Total Reward (running avg):   14 (22.97) Epsilon: 0.929, Avg Q: 0.9803\n",
      "Episode: 71, Total Reward (running avg):   12 (22.42) Epsilon: 0.928, Avg Q: 0.987\n",
      "Episode: 72, Total Reward (running avg):   19 (22.25) Epsilon: 0.927, Avg Q: 0.9793\n",
      "Episode: 73, Total Reward (running avg):   23 (22.29) Epsilon: 0.926, Avg Q: 0.9589\n",
      "Episode: 74, Total Reward (running avg):   12 (21.77) Epsilon: 0.925, Avg Q: 0.9814\n",
      "Episode: 75, Total Reward (running avg):   21 (21.73) Epsilon: 0.924, Avg Q: 0.97\n",
      "Episode: 76, Total Reward (running avg):   18 (21.55) Epsilon: 0.923, Avg Q: 0.9598\n",
      "Episode: 77, Total Reward (running avg):   22 (21.57) Epsilon: 0.922, Avg Q: 0.9936\n",
      "Episode: 78, Total Reward (running avg):   19 (21.44) Epsilon: 0.921, Avg Q: 0.9881\n",
      "Episode: 79, Total Reward (running avg):   18 (21.27) Epsilon: 0.920, Avg Q: 0.9664\n",
      "Episode: 80, Total Reward (running avg):   31 (21.76) Epsilon: 0.919, Avg Q: 0.9815\n",
      "Episode: 81, Total Reward (running avg):   16 (21.47) Epsilon: 0.918, Avg Q: 0.9703\n",
      "Episode: 82, Total Reward (running avg):   14 (21.09) Epsilon: 0.917, Avg Q: 1.181\n",
      "Episode: 83, Total Reward (running avg):   22 (21.14) Epsilon: 0.916, Avg Q: 1.444\n",
      "Episode: 84, Total Reward (running avg):   17 (20.93) Epsilon: 0.915, Avg Q: 1.689\n",
      "Episode: 85, Total Reward (running avg):   10 (20.39) Epsilon: 0.914, Avg Q: 1.851\n",
      "Episode: 86, Total Reward (running avg):   13 (20.02) Epsilon: 0.913, Avg Q: 1.881\n",
      "Episode: 87, Total Reward (running avg):   20 (20.02) Epsilon: 0.912, Avg Q: 1.831\n",
      "Episode: 88, Total Reward (running avg):   14 (19.72) Epsilon: 0.911, Avg Q: 1.872\n",
      "Episode: 89, Total Reward (running avg):   25 (19.98) Epsilon: 0.910, Avg Q: 1.82\n",
      "Episode: 90, Total Reward (running avg):   11 (19.53) Epsilon: 0.909, Avg Q: 1.907\n",
      "Episode: 91, Total Reward (running avg):   22 (19.65) Epsilon: 0.908, Avg Q: 1.817\n",
      "Episode: 92, Total Reward (running avg):   40 (20.67) Epsilon: 0.907, Avg Q: 2.08\n",
      "Episode: 93, Total Reward (running avg):   15 (20.39) Epsilon: 0.906, Avg Q: 1.878\n",
      "Episode: 94, Total Reward (running avg):   26 (20.67) Epsilon: 0.905, Avg Q: 1.818\n",
      "Episode: 95, Total Reward (running avg):   25 (20.89) Epsilon: 0.904, Avg Q: 1.838\n",
      "Episode: 96, Total Reward (running avg):   16 (20.64) Epsilon: 0.903, Avg Q: 1.861\n",
      "Episode: 97, Total Reward (running avg):   44 (21.81) Epsilon: 0.902, Avg Q: 1.984\n",
      "Episode: 98, Total Reward (running avg):   21 (21.77) Epsilon: 0.901, Avg Q: 1.879\n",
      "Episode: 99, Total Reward (running avg):   26 (21.98) Epsilon: 0.900, Avg Q: 1.863\n",
      "Episode: 100, Total Reward (running avg):   19 (21.83) Epsilon: 0.899, Avg Q: 1.866\n",
      "Episode: 101, Total Reward (running avg):   31 (22.29) Epsilon: 0.898, Avg Q: 1.856\n",
      "Episode: 102, Total Reward (running avg):   26 (22.47) Epsilon: 0.897, Avg Q: 1.905\n",
      "Episode: 103, Total Reward (running avg):   13 (22.00) Epsilon: 0.896, Avg Q: 1.812\n",
      "Episode: 104, Total Reward (running avg):   18 (21.80) Epsilon: 0.895, Avg Q: 1.857\n",
      "Episode: 105, Total Reward (running avg):   15 (21.46) Epsilon: 0.894, Avg Q: 1.817\n",
      "Episode: 106, Total Reward (running avg):    9 (20.84) Epsilon: 0.893, Avg Q: 1.813\n",
      "Episode: 107, Total Reward (running avg):   12 (20.40) Epsilon: 0.892, Avg Q: 1.81\n",
      "Episode: 108, Total Reward (running avg):   28 (20.78) Epsilon: 0.891, Avg Q: 1.892\n",
      "Episode: 109, Total Reward (running avg):   15 (20.49) Epsilon: 0.890, Avg Q: 1.837\n",
      "Episode: 110, Total Reward (running avg):   35 (21.21) Epsilon: 0.889, Avg Q: 1.903\n",
      "Episode: 111, Total Reward (running avg):   20 (21.15) Epsilon: 0.888, Avg Q: 1.862\n",
      "Episode: 112, Total Reward (running avg):   17 (20.94) Epsilon: 0.887, Avg Q: 1.844\n",
      "Episode: 113, Total Reward (running avg):   62 (23.00) Epsilon: 0.886, Avg Q: 2.011\n",
      "Episode: 114, Total Reward (running avg):   33 (23.50) Epsilon: 0.885, Avg Q: 1.875\n",
      "Episode: 115, Total Reward (running avg):   20 (23.32) Epsilon: 0.884, Avg Q: 1.852\n",
      "Episode: 116, Total Reward (running avg):   14 (22.86) Epsilon: 0.883, Avg Q: 1.84\n",
      "Episode: 117, Total Reward (running avg):   30 (23.21) Epsilon: 0.882, Avg Q: 1.905\n",
      "Episode: 118, Total Reward (running avg):   17 (22.90) Epsilon: 0.881, Avg Q: 1.877\n",
      "Episode: 119, Total Reward (running avg):   35 (23.51) Epsilon: 0.880, Avg Q: 1.891\n",
      "Episode: 120, Total Reward (running avg):   19 (23.28) Epsilon: 0.879, Avg Q: 1.852\n",
      "Episode: 121, Total Reward (running avg):   12 (22.72) Epsilon: 0.878, Avg Q: 1.798\n",
      "Episode: 122, Total Reward (running avg):   22 (22.68) Epsilon: 0.877, Avg Q: 1.87\n",
      "Episode: 123, Total Reward (running avg):   17 (22.40) Epsilon: 0.876, Avg Q: 1.833\n",
      "Episode: 124, Total Reward (running avg):   12 (21.88) Epsilon: 0.875, Avg Q: 1.815\n",
      "Episode: 125, Total Reward (running avg):   24 (21.98) Epsilon: 0.874, Avg Q: 1.892\n",
      "Episode: 126, Total Reward (running avg):   45 (23.14) Epsilon: 0.873, Avg Q: 1.901\n",
      "Episode: 127, Total Reward (running avg):   21 (23.03) Epsilon: 0.872, Avg Q: 2.17\n",
      "Episode: 128, Total Reward (running avg):   20 (22.88) Epsilon: 0.871, Avg Q: 2.54\n",
      "Episode: 129, Total Reward (running avg):   14 (22.43) Epsilon: 0.870, Avg Q: 2.683\n",
      "Episode: 130, Total Reward (running avg):   31 (22.86) Epsilon: 0.869, Avg Q: 2.633\n",
      "Episode: 131, Total Reward (running avg):   23 (22.87) Epsilon: 0.868, Avg Q: 2.692\n",
      "Episode: 132, Total Reward (running avg):   22 (22.83) Epsilon: 0.867, Avg Q: 2.693\n",
      "Episode: 133, Total Reward (running avg):   17 (22.53) Epsilon: 0.866, Avg Q: 2.674\n",
      "Episode: 134, Total Reward (running avg):   12 (22.01) Epsilon: 0.865, Avg Q: 2.65\n",
      "Episode: 135, Total Reward (running avg):   11 (21.46) Epsilon: 0.864, Avg Q: 2.609\n",
      "Episode: 136, Total Reward (running avg):   10 (20.88) Epsilon: 0.863, Avg Q: 2.65\n",
      "Episode: 137, Total Reward (running avg):   13 (20.49) Epsilon: 0.862, Avg Q: 2.639\n",
      "Episode: 138, Total Reward (running avg):   10 (19.97) Epsilon: 0.861, Avg Q: 2.613\n",
      "Episode: 139, Total Reward (running avg):   20 (19.97) Epsilon: 0.860, Avg Q: 2.666\n",
      "Episode: 140, Total Reward (running avg):   12 (19.57) Epsilon: 0.859, Avg Q: 2.611\n",
      "Episode: 141, Total Reward (running avg):   33 (20.24) Epsilon: 0.858, Avg Q: 2.683\n",
      "Episode: 142, Total Reward (running avg):   12 (19.83) Epsilon: 0.857, Avg Q: 2.625\n",
      "Episode: 143, Total Reward (running avg):   44 (21.04) Epsilon: 0.856, Avg Q: 2.861\n",
      "Episode: 144, Total Reward (running avg):   24 (21.18) Epsilon: 0.855, Avg Q: 2.768\n",
      "Episode: 145, Total Reward (running avg):   16 (20.93) Epsilon: 0.854, Avg Q: 2.641\n",
      "Episode: 146, Total Reward (running avg):   11 (20.43) Epsilon: 0.853, Avg Q: 2.635\n",
      "Episode: 147, Total Reward (running avg):   31 (20.96) Epsilon: 0.852, Avg Q: 2.705\n",
      "Episode: 148, Total Reward (running avg):   37 (21.76) Epsilon: 0.851, Avg Q: 2.702\n",
      "Episode: 149, Total Reward (running avg):   11 (21.22) Epsilon: 0.850, Avg Q: 2.615\n",
      "Episode: 150, Total Reward (running avg):   27 (21.51) Epsilon: 0.849, Avg Q: 2.712\n",
      "Episode: 151, Total Reward (running avg):   37 (22.29) Epsilon: 0.848, Avg Q: 2.854\n",
      "Episode: 152, Total Reward (running avg):   31 (22.72) Epsilon: 0.847, Avg Q: 2.732\n",
      "Episode: 153, Total Reward (running avg):   27 (22.94) Epsilon: 0.846, Avg Q: 2.743\n",
      "Episode: 154, Total Reward (running avg):   14 (22.49) Epsilon: 0.845, Avg Q: 2.629\n",
      "Episode: 155, Total Reward (running avg):   13 (22.01) Epsilon: 0.844, Avg Q: 2.656\n",
      "Episode: 156, Total Reward (running avg):   22 (22.01) Epsilon: 0.843, Avg Q: 2.715\n",
      "Episode: 157, Total Reward (running avg):   21 (21.96) Epsilon: 0.842, Avg Q: 2.658\n",
      "Episode: 158, Total Reward (running avg):   33 (22.51) Epsilon: 0.841, Avg Q: 2.751\n",
      "Episode: 159, Total Reward (running avg):   21 (22.44) Epsilon: 0.840, Avg Q: 2.643\n",
      "Episode: 160, Total Reward (running avg):   11 (21.87) Epsilon: 0.839, Avg Q: 2.622\n",
      "Episode: 161, Total Reward (running avg):   26 (22.07) Epsilon: 0.838, Avg Q: 2.709\n",
      "Episode: 162, Total Reward (running avg):   36 (22.77) Epsilon: 0.837, Avg Q: 2.711\n",
      "Episode: 163, Total Reward (running avg):   11 (22.18) Epsilon: 0.836, Avg Q: 2.557\n",
      "Episode: 164, Total Reward (running avg):   12 (21.67) Epsilon: 0.835, Avg Q: 2.545\n",
      "Episode: 165, Total Reward (running avg):   31 (22.14) Epsilon: 0.834, Avg Q: 2.734\n",
      "Episode: 166, Total Reward (running avg):   28 (22.43) Epsilon: 0.833, Avg Q: 2.67\n",
      "Episode: 167, Total Reward (running avg):   28 (22.71) Epsilon: 0.832, Avg Q: 2.701\n",
      "Episode: 168, Total Reward (running avg):   44 (23.77) Epsilon: 0.831, Avg Q: 2.754\n",
      "Episode: 169, Total Reward (running avg):   15 (23.34) Epsilon: 0.830, Avg Q: 2.663\n",
      "Episode: 170, Total Reward (running avg):   12 (22.77) Epsilon: 0.829, Avg Q: 2.537\n",
      "Episode: 171, Total Reward (running avg):   28 (23.03) Epsilon: 0.828, Avg Q: 2.715\n",
      "Episode: 172, Total Reward (running avg):    8 (22.28) Epsilon: 0.827, Avg Q: 2.527\n",
      "Episode: 173, Total Reward (running avg):   24 (22.37) Epsilon: 0.826, Avg Q: 2.853\n",
      "Episode: 174, Total Reward (running avg):   18 (22.15) Epsilon: 0.825, Avg Q: 3.248\n",
      "Episode: 175, Total Reward (running avg):   47 (23.39) Epsilon: 0.824, Avg Q: 3.618\n",
      "Episode: 176, Total Reward (running avg):   46 (24.52) Epsilon: 0.823, Avg Q: 3.599\n",
      "Episode: 177, Total Reward (running avg):   20 (24.29) Epsilon: 0.822, Avg Q: 3.425\n",
      "Episode: 178, Total Reward (running avg):   15 (23.83) Epsilon: 0.821, Avg Q: 3.379\n",
      "Episode: 179, Total Reward (running avg):   34 (24.34) Epsilon: 0.820, Avg Q: 3.491\n",
      "Episode: 180, Total Reward (running avg):   23 (24.27) Epsilon: 0.819, Avg Q: 3.35\n",
      "Episode: 181, Total Reward (running avg):   11 (23.61) Epsilon: 0.818, Avg Q: 3.226\n",
      "Episode: 182, Total Reward (running avg):   14 (23.13) Epsilon: 0.817, Avg Q: 3.255\n",
      "Episode: 183, Total Reward (running avg):   22 (23.07) Epsilon: 0.816, Avg Q: 3.316\n",
      "Episode: 184, Total Reward (running avg):   15 (22.67) Epsilon: 0.815, Avg Q: 3.25\n",
      "Episode: 185, Total Reward (running avg):   10 (22.03) Epsilon: 0.814, Avg Q: 3.032\n",
      "Episode: 186, Total Reward (running avg):   40 (22.93) Epsilon: 0.813, Avg Q: 3.44\n",
      "Episode: 187, Total Reward (running avg):   14 (22.49) Epsilon: 0.812, Avg Q: 3.249\n",
      "Episode: 188, Total Reward (running avg):   30 (22.86) Epsilon: 0.811, Avg Q: 3.484\n",
      "Episode: 189, Total Reward (running avg):   38 (23.62) Epsilon: 0.810, Avg Q: 3.549\n",
      "Episode: 190, Total Reward (running avg):   20 (23.44) Epsilon: 0.809, Avg Q: 3.356\n",
      "Episode: 191, Total Reward (running avg):   33 (23.92) Epsilon: 0.808, Avg Q: 3.573\n",
      "Episode: 192, Total Reward (running avg):   52 (25.32) Epsilon: 0.807, Avg Q: 3.609\n"
     ]
    },
    {
     "name": "stdout",
     "output_type": "stream",
     "text": [
      "Episode: 193, Total Reward (running avg):   13 (24.70) Epsilon: 0.806, Avg Q: 3.274\n",
      "Episode: 194, Total Reward (running avg):   27 (24.82) Epsilon: 0.805, Avg Q: 3.507\n",
      "Episode: 195, Total Reward (running avg):   52 (26.18) Epsilon: 0.804, Avg Q: 3.598\n",
      "Episode: 196, Total Reward (running avg):   19 (25.82) Epsilon: 0.803, Avg Q: 3.377\n",
      "Episode: 197, Total Reward (running avg):   43 (26.68) Epsilon: 0.802, Avg Q: 3.502\n",
      "Episode: 198, Total Reward (running avg):   33 (26.99) Epsilon: 0.801, Avg Q: 3.489\n",
      "Episode: 199, Total Reward (running avg):   54 (28.34) Epsilon: 0.800, Avg Q: 3.568\n",
      "Episode: 200, Total Reward (running avg):   40 (28.93) Epsilon: 0.799, Avg Q: 3.548\n",
      "Episode: 201, Total Reward (running avg):   11 (28.03) Epsilon: 0.798, Avg Q: 3.208\n",
      "Episode: 202, Total Reward (running avg):   24 (27.83) Epsilon: 0.797, Avg Q: 3.433\n",
      "Episode: 203, Total Reward (running avg):   14 (27.14) Epsilon: 0.796, Avg Q: 3.272\n",
      "Episode: 204, Total Reward (running avg):   19 (26.73) Epsilon: 0.795, Avg Q: 3.388\n",
      "Episode: 205, Total Reward (running avg):   34 (27.09) Epsilon: 0.794, Avg Q: 3.563\n",
      "Episode: 206, Total Reward (running avg):   19 (26.69) Epsilon: 0.793, Avg Q: 3.427\n",
      "Episode: 207, Total Reward (running avg):   15 (26.11) Epsilon: 0.792, Avg Q: 3.346\n",
      "Episode: 208, Total Reward (running avg):  100 (29.80) Epsilon: 0.791, Avg Q: 3.854\n",
      "Episode: 209, Total Reward (running avg):   24 (29.51) Epsilon: 0.790, Avg Q: 4.06\n",
      "Episode: 210, Total Reward (running avg):   37 (29.88) Epsilon: 0.789, Avg Q: 4.118\n",
      "Episode: 211, Total Reward (running avg):   37 (30.24) Epsilon: 0.788, Avg Q: 4.191\n",
      "Episode: 212, Total Reward (running avg):   19 (29.68) Epsilon: 0.787, Avg Q: 3.969\n",
      "Episode: 213, Total Reward (running avg):   42 (30.29) Epsilon: 0.786, Avg Q: 4.209\n",
      "Episode: 214, Total Reward (running avg):   22 (29.88) Epsilon: 0.785, Avg Q: 4.034\n",
      "Episode: 215, Total Reward (running avg):   33 (30.04) Epsilon: 0.784, Avg Q: 4.293\n",
      "Episode: 216, Total Reward (running avg):   57 (31.38) Epsilon: 0.783, Avg Q: 4.398\n",
      "Episode: 217, Total Reward (running avg):   58 (32.71) Epsilon: 0.782, Avg Q: 4.222\n",
      "Episode: 218, Total Reward (running avg):   48 (33.48) Epsilon: 0.781, Avg Q: 4.204\n",
      "Episode: 219, Total Reward (running avg):   27 (33.15) Epsilon: 0.780, Avg Q: 4.077\n",
      "Episode: 220, Total Reward (running avg):   28 (32.90) Epsilon: 0.779, Avg Q: 4.117\n",
      "Episode: 221, Total Reward (running avg):   22 (32.35) Epsilon: 0.778, Avg Q: 4.115\n",
      "Episode: 222, Total Reward (running avg):   17 (31.58) Epsilon: 0.777, Avg Q: 3.965\n",
      "Episode: 223, Total Reward (running avg):   27 (31.36) Epsilon: 0.776, Avg Q: 4.146\n",
      "Episode: 224, Total Reward (running avg):   12 (30.39) Epsilon: 0.775, Avg Q: 3.815\n",
      "Episode: 225, Total Reward (running avg):   30 (30.37) Epsilon: 0.774, Avg Q: 4.19\n",
      "Episode: 226, Total Reward (running avg):   54 (31.55) Epsilon: 0.773, Avg Q: 4.263\n",
      "Episode: 227, Total Reward (running avg):   57 (32.82) Epsilon: 0.772, Avg Q: 4.576\n",
      "Episode: 228, Total Reward (running avg):   24 (32.38) Epsilon: 0.771, Avg Q: 4.156\n",
      "Episode: 229, Total Reward (running avg):   52 (33.36) Epsilon: 0.770, Avg Q: 4.46\n",
      "Episode: 230, Total Reward (running avg):   22 (32.79) Epsilon: 0.769, Avg Q: 4.108\n",
      "Episode: 231, Total Reward (running avg):   20 (32.15) Epsilon: 0.768, Avg Q: 3.997\n",
      "Episode: 232, Total Reward (running avg):   54 (33.25) Epsilon: 0.767, Avg Q: 4.746\n",
      "Episode: 233, Total Reward (running avg):   31 (33.13) Epsilon: 0.766, Avg Q: 4.161\n",
      "Episode: 234, Total Reward (running avg):   13 (32.13) Epsilon: 0.765, Avg Q: 3.832\n",
      "Episode: 235, Total Reward (running avg):   43 (32.67) Epsilon: 0.764, Avg Q: 4.211\n",
      "Episode: 236, Total Reward (running avg):   50 (33.54) Epsilon: 0.763, Avg Q: 4.331\n",
      "Episode: 237, Total Reward (running avg):   24 (33.06) Epsilon: 0.762, Avg Q: 4.37\n",
      "Episode: 238, Total Reward (running avg):   73 (35.06) Epsilon: 0.761, Avg Q: 4.946\n",
      "Episode: 239, Total Reward (running avg):   48 (35.70) Epsilon: 0.760, Avg Q: 4.961\n",
      "Episode: 240, Total Reward (running avg):   49 (36.37) Epsilon: 0.759, Avg Q: 4.97\n",
      "Episode: 241, Total Reward (running avg):   55 (37.30) Epsilon: 0.758, Avg Q: 5.415\n",
      "Episode: 242, Total Reward (running avg):   15 (36.19) Epsilon: 0.757, Avg Q: 4.517\n",
      "Episode: 243, Total Reward (running avg):   44 (36.58) Epsilon: 0.756, Avg Q: 5.039\n",
      "Episode: 244, Total Reward (running avg):   46 (37.05) Epsilon: 0.755, Avg Q: 4.915\n",
      "Episode: 245, Total Reward (running avg):   39 (37.15) Epsilon: 0.754, Avg Q: 4.953\n",
      "Episode: 246, Total Reward (running avg):  140 (42.29) Epsilon: 0.753, Avg Q: 6.32\n",
      "Episode: 247, Total Reward (running avg):   21 (41.22) Epsilon: 0.752, Avg Q: 4.592\n",
      "Episode: 248, Total Reward (running avg):   69 (42.61) Epsilon: 0.751, Avg Q: 5.421\n",
      "Episode: 249, Total Reward (running avg):   23 (41.63) Epsilon: 0.750, Avg Q: 4.852\n",
      "Episode: 250, Total Reward (running avg):   15 (40.30) Epsilon: 0.749, Avg Q: 4.539\n",
      "Episode: 251, Total Reward (running avg):   28 (39.69) Epsilon: 0.748, Avg Q: 4.793\n",
      "Episode: 252, Total Reward (running avg):   26 (39.00) Epsilon: 0.747, Avg Q: 4.782\n",
      "Episode: 253, Total Reward (running avg):   46 (39.35) Epsilon: 0.746, Avg Q: 5.022\n",
      "Episode: 254, Total Reward (running avg):   52 (39.98) Epsilon: 0.745, Avg Q: 4.978\n",
      "Episode: 255, Total Reward (running avg):   40 (39.98) Epsilon: 0.744, Avg Q: 4.927\n",
      "Episode: 256, Total Reward (running avg):   62 (41.09) Epsilon: 0.743, Avg Q: 5.547\n",
      "Episode: 257, Total Reward (running avg):   14 (39.73) Epsilon: 0.742, Avg Q: 4.461\n",
      "Episode: 258, Total Reward (running avg):   49 (40.19) Epsilon: 0.741, Avg Q: 5.122\n",
      "Episode: 259, Total Reward (running avg):   67 (41.53) Epsilon: 0.740, Avg Q: 5.329\n",
      "Episode: 260, Total Reward (running avg):   54 (42.16) Epsilon: 0.739, Avg Q: 5.643\n",
      "Episode: 261, Total Reward (running avg):   14 (40.75) Epsilon: 0.738, Avg Q: 5.104\n",
      "Episode: 262, Total Reward (running avg):   23 (39.86) Epsilon: 0.737, Avg Q: 5.264\n",
      "Episode: 263, Total Reward (running avg):  104 (43.07) Epsilon: 0.736, Avg Q: 6.414\n",
      "Episode: 264, Total Reward (running avg):   20 (41.92) Epsilon: 0.735, Avg Q: 5.306\n",
      "Episode: 265, Total Reward (running avg):   17 (40.67) Epsilon: 0.734, Avg Q: 5.178\n",
      "Episode: 266, Total Reward (running avg):   47 (40.99) Epsilon: 0.733, Avg Q: 5.642\n",
      "Episode: 267, Total Reward (running avg):   55 (41.69) Epsilon: 0.732, Avg Q: 5.643\n",
      "Episode: 268, Total Reward (running avg):  108 (45.00) Epsilon: 0.731, Avg Q: 6.271\n",
      "Episode: 269, Total Reward (running avg):   66 (46.05) Epsilon: 0.730, Avg Q: 5.769\n",
      "Episode: 270, Total Reward (running avg):   49 (46.20) Epsilon: 0.729, Avg Q: 5.712\n",
      "Episode: 271, Total Reward (running avg):   27 (45.24) Epsilon: 0.728, Avg Q: 5.46\n",
      "Episode: 272, Total Reward (running avg):   51 (45.53) Epsilon: 0.727, Avg Q: 5.699\n",
      "Episode: 273, Total Reward (running avg):   22 (44.35) Epsilon: 0.726, Avg Q: 5.245\n",
      "Episode: 274, Total Reward (running avg):   59 (45.08) Epsilon: 0.725, Avg Q: 5.766\n",
      "Episode: 275, Total Reward (running avg):   17 (43.68) Epsilon: 0.724, Avg Q: 5.2\n",
      "Episode: 276, Total Reward (running avg):   41 (43.55) Epsilon: 0.723, Avg Q: 5.57\n",
      "Episode: 277, Total Reward (running avg):   13 (42.02) Epsilon: 0.722, Avg Q: 5.025\n",
      "Episode: 278, Total Reward (running avg):   22 (41.02) Epsilon: 0.721, Avg Q: 5.311\n",
      "Episode: 279, Total Reward (running avg):   51 (41.52) Epsilon: 0.720, Avg Q: 5.614\n",
      "Episode: 280, Total Reward (running avg):   29 (40.89) Epsilon: 0.719, Avg Q: 5.56\n",
      "Episode: 281, Total Reward (running avg):   61 (41.90) Epsilon: 0.718, Avg Q: 5.671\n",
      "Episode: 282, Total Reward (running avg):   63 (42.95) Epsilon: 0.717, Avg Q: 6.166\n",
      "Episode: 283, Total Reward (running avg):   45 (43.05) Epsilon: 0.716, Avg Q: 6.257\n",
      "Episode: 284, Total Reward (running avg):   54 (43.60) Epsilon: 0.715, Avg Q: 6.396\n",
      "Episode: 285, Total Reward (running avg):   45 (43.67) Epsilon: 0.714, Avg Q: 6.314\n",
      "Episode: 286, Total Reward (running avg):   10 (41.99) Epsilon: 0.713, Avg Q: 5.343\n",
      "Episode: 287, Total Reward (running avg):   31 (41.44) Epsilon: 0.712, Avg Q: 6.087\n",
      "Episode: 288, Total Reward (running avg):   58 (42.27) Epsilon: 0.711, Avg Q: 6.374\n",
      "Episode: 289, Total Reward (running avg):   60 (43.15) Epsilon: 0.710, Avg Q: 6.425\n",
      "Episode: 290, Total Reward (running avg):   99 (45.95) Epsilon: 0.709, Avg Q: 7.093\n",
      "Episode: 291, Total Reward (running avg):  120 (49.65) Epsilon: 0.708, Avg Q: 6.592\n",
      "Episode: 292, Total Reward (running avg):  137 (54.02) Epsilon: 0.707, Avg Q: 6.599\n",
      "Episode: 293, Total Reward (running avg):   64 (54.51) Epsilon: 0.706, Avg Q: 6.292\n",
      "Episode: 294, Total Reward (running avg):  131 (58.34) Epsilon: 0.705, Avg Q: 7.191\n",
      "Episode: 295, Total Reward (running avg):   21 (56.47) Epsilon: 0.704, Avg Q: 5.816\n",
      "Episode: 296, Total Reward (running avg):   25 (54.90) Epsilon: 0.703, Avg Q: 6.078\n",
      "Episode: 297, Total Reward (running avg):   28 (53.55) Epsilon: 0.702, Avg Q: 6.039\n",
      "Episode: 298, Total Reward (running avg):   21 (51.93) Epsilon: 0.701, Avg Q: 6.017\n",
      "Episode: 299, Total Reward (running avg):  107 (54.68) Epsilon: 0.700, Avg Q: 7.207\n",
      "Episode: 300, Total Reward (running avg):   77 (55.80) Epsilon: 0.699, Avg Q: 7.006\n",
      "Episode: 301, Total Reward (running avg):   87 (57.36) Epsilon: 0.698, Avg Q: 7.025\n",
      "Episode: 302, Total Reward (running avg):   24 (55.69) Epsilon: 0.697, Avg Q: 6.632\n",
      "Episode: 303, Total Reward (running avg):   33 (54.55) Epsilon: 0.696, Avg Q: 6.788\n",
      "Episode: 304, Total Reward (running avg):   85 (56.08) Epsilon: 0.695, Avg Q: 7.052\n",
      "Episode: 305, Total Reward (running avg):   43 (55.42) Epsilon: 0.694, Avg Q: 6.872\n",
      "Episode: 306, Total Reward (running avg):   23 (53.80) Epsilon: 0.693, Avg Q: 6.478\n",
      "Episode: 307, Total Reward (running avg):   42 (53.21) Epsilon: 0.692, Avg Q: 6.931\n",
      "Episode: 308, Total Reward (running avg):   49 (53.00) Epsilon: 0.691, Avg Q: 6.796\n",
      "Episode: 309, Total Reward (running avg):   93 (55.00) Epsilon: 0.690, Avg Q: 7.086\n",
      "Episode: 310, Total Reward (running avg):   41 (54.30) Epsilon: 0.689, Avg Q: 6.875\n",
      "Episode: 311, Total Reward (running avg):   58 (54.49) Epsilon: 0.688, Avg Q: 7.044\n",
      "Episode: 312, Total Reward (running avg):  125 (58.01) Epsilon: 0.687, Avg Q: 7.546\n",
      "Episode: 313, Total Reward (running avg):   27 (56.46) Epsilon: 0.686, Avg Q: 6.652\n",
      "Episode: 314, Total Reward (running avg):   71 (57.19) Epsilon: 0.685, Avg Q: 7.025\n",
      "Episode: 315, Total Reward (running avg):   68 (57.73) Epsilon: 0.684, Avg Q: 7.474\n",
      "Episode: 316, Total Reward (running avg):   36 (56.64) Epsilon: 0.683, Avg Q: 7.436\n",
      "Episode: 317, Total Reward (running avg):   28 (55.21) Epsilon: 0.682, Avg Q: 7.164\n",
      "Episode: 318, Total Reward (running avg):   77 (56.30) Epsilon: 0.681, Avg Q: 7.542\n",
      "Episode: 319, Total Reward (running avg):   50 (55.98) Epsilon: 0.680, Avg Q: 7.521\n",
      "Episode: 320, Total Reward (running avg):   99 (58.14) Epsilon: 0.679, Avg Q: 7.698\n",
      "Episode: 321, Total Reward (running avg):   77 (59.08) Epsilon: 0.678, Avg Q: 7.701\n",
      "Episode: 322, Total Reward (running avg):   62 (59.22) Epsilon: 0.677, Avg Q: 7.569\n",
      "Episode: 323, Total Reward (running avg):   36 (58.06) Epsilon: 0.676, Avg Q: 7.384\n",
      "Episode: 324, Total Reward (running avg):   34 (56.86) Epsilon: 0.675, Avg Q: 7.352\n",
      "Episode: 325, Total Reward (running avg):   16 (54.82) Epsilon: 0.674, Avg Q: 6.593\n",
      "Episode: 326, Total Reward (running avg):   36 (53.88) Epsilon: 0.673, Avg Q: 7.54\n",
      "Episode: 327, Total Reward (running avg):   13 (51.83) Epsilon: 0.672, Avg Q: 6.336\n",
      "Episode: 328, Total Reward (running avg):   52 (51.84) Epsilon: 0.671, Avg Q: 7.365\n",
      "Episode: 329, Total Reward (running avg):   12 (49.85) Epsilon: 0.670, Avg Q: 6.395\n",
      "Episode: 330, Total Reward (running avg):   29 (48.81) Epsilon: 0.669, Avg Q: 7.279\n",
      "Episode: 331, Total Reward (running avg):   69 (49.82) Epsilon: 0.668, Avg Q: 7.665\n",
      "Episode: 332, Total Reward (running avg):   48 (49.73) Epsilon: 0.667, Avg Q: 7.457\n",
      "Episode: 333, Total Reward (running avg):   16 (48.04) Epsilon: 0.666, Avg Q: 6.93\n",
      "Episode: 334, Total Reward (running avg):   61 (48.69) Epsilon: 0.665, Avg Q: 7.602\n",
      "Episode: 335, Total Reward (running avg):  134 (52.95) Epsilon: 0.664, Avg Q: 7.943\n",
      "Episode: 336, Total Reward (running avg):   96 (55.10) Epsilon: 0.663, Avg Q: 8.371\n",
      "Episode: 337, Total Reward (running avg):   44 (54.55) Epsilon: 0.662, Avg Q: 7.849\n",
      "Episode: 338, Total Reward (running avg):   66 (55.12) Epsilon: 0.661, Avg Q: 8.202\n",
      "Episode: 339, Total Reward (running avg):   95 (57.12) Epsilon: 0.660, Avg Q: 8.239\n",
      "Episode: 340, Total Reward (running avg):   37 (56.11) Epsilon: 0.659, Avg Q: 7.82\n",
      "Episode: 341, Total Reward (running avg):   14 (54.00) Epsilon: 0.658, Avg Q: 6.65\n",
      "Episode: 342, Total Reward (running avg):   85 (55.55) Epsilon: 0.657, Avg Q: 8.164\n",
      "Episode: 343, Total Reward (running avg):   31 (54.33) Epsilon: 0.656, Avg Q: 7.833\n",
      "Episode: 344, Total Reward (running avg):  141 (58.66) Epsilon: 0.655, Avg Q: 8.289\n",
      "Episode: 345, Total Reward (running avg):  142 (62.83) Epsilon: 0.654, Avg Q: 8.358\n",
      "Episode: 346, Total Reward (running avg):   59 (62.64) Epsilon: 0.653, Avg Q: 8.181\n",
      "Episode: 347, Total Reward (running avg):  116 (65.30) Epsilon: 0.652, Avg Q: 8.358\n",
      "Episode: 348, Total Reward (running avg):  178 (70.94) Epsilon: 0.651, Avg Q: 9.142\n",
      "Episode: 349, Total Reward (running avg):   33 (69.04) Epsilon: 0.650, Avg Q: 8.424\n",
      "Episode: 350, Total Reward (running avg):  100 (70.59) Epsilon: 0.649, Avg Q: 8.79\n",
      "Episode: 351, Total Reward (running avg):   28 (68.46) Epsilon: 0.648, Avg Q: 8.223\n",
      "Episode: 352, Total Reward (running avg):   66 (68.34) Epsilon: 0.647, Avg Q: 8.716\n",
      "Episode: 353, Total Reward (running avg):   73 (68.57) Epsilon: 0.646, Avg Q: 8.569\n",
      "Episode: 354, Total Reward (running avg):   32 (66.74) Epsilon: 0.645, Avg Q: 8.352\n",
      "Episode: 355, Total Reward (running avg):  139 (70.35) Epsilon: 0.644, Avg Q: 9.253\n",
      "Episode: 356, Total Reward (running avg):   54 (69.54) Epsilon: 0.643, Avg Q: 8.652\n",
      "Episode: 357, Total Reward (running avg):   45 (68.31) Epsilon: 0.642, Avg Q: 8.641\n",
      "Episode: 358, Total Reward (running avg):  125 (71.14) Epsilon: 0.641, Avg Q: 8.957\n",
      "Episode: 359, Total Reward (running avg):   99 (72.54) Epsilon: 0.640, Avg Q: 9.045\n",
      "Episode: 360, Total Reward (running avg):  126 (75.21) Epsilon: 0.639, Avg Q: 8.891\n",
      "Episode: 361, Total Reward (running avg):   10 (71.95) Epsilon: 0.638, Avg Q: 6.849\n",
      "Episode: 362, Total Reward (running avg):   39 (70.30) Epsilon: 0.637, Avg Q: 9.001\n",
      "Episode: 363, Total Reward (running avg):   10 (67.29) Epsilon: 0.636, Avg Q: 7.443\n",
      "Episode: 364, Total Reward (running avg):   53 (66.57) Epsilon: 0.635, Avg Q: 9.013\n",
      "Episode: 365, Total Reward (running avg):   41 (65.29) Epsilon: 0.634, Avg Q: 9.085\n",
      "Episode: 366, Total Reward (running avg):   29 (63.48) Epsilon: 0.633, Avg Q: 8.759\n",
      "Episode: 367, Total Reward (running avg):   13 (60.96) Epsilon: 0.632, Avg Q: 7.47\n",
      "Episode: 368, Total Reward (running avg):   59 (60.86) Epsilon: 0.631, Avg Q: 9.234\n",
      "Episode: 369, Total Reward (running avg):   74 (61.52) Epsilon: 0.630, Avg Q: 9.35\n",
      "Episode: 370, Total Reward (running avg):  117 (64.29) Epsilon: 0.629, Avg Q: 9.41\n",
      "Episode: 371, Total Reward (running avg):  102 (66.17) Epsilon: 0.628, Avg Q: 9.458\n",
      "Episode: 372, Total Reward (running avg):   98 (67.77) Epsilon: 0.627, Avg Q: 9.341\n",
      "Episode: 373, Total Reward (running avg):  139 (71.33) Epsilon: 0.626, Avg Q: 9.136\n",
      "Episode: 374, Total Reward (running avg):  150 (75.26) Epsilon: 0.625, Avg Q: 9.518\n",
      "Episode: 375, Total Reward (running avg):   76 (75.30) Epsilon: 0.624, Avg Q: 9.756\n",
      "Episode: 376, Total Reward (running avg):   38 (73.43) Epsilon: 0.623, Avg Q: 9.445\n",
      "Episode: 377, Total Reward (running avg):   31 (71.31) Epsilon: 0.622, Avg Q: 9.369\n",
      "Episode: 378, Total Reward (running avg):   11 (68.30) Epsilon: 0.621, Avg Q: 7.245\n",
      "Episode: 379, Total Reward (running avg):   17 (65.73) Epsilon: 0.620, Avg Q: 8.712\n",
      "Episode: 380, Total Reward (running avg):   59 (65.39) Epsilon: 0.619, Avg Q: 9.737\n",
      "Episode: 381, Total Reward (running avg):  140 (69.13) Epsilon: 0.618, Avg Q: 10.04\n",
      "Episode: 382, Total Reward (running avg):   55 (68.42) Epsilon: 0.617, Avg Q: 9.869\n",
      "Episode: 383, Total Reward (running avg):  102 (70.10) Epsilon: 0.616, Avg Q: 9.792\n",
      "Episode: 384, Total Reward (running avg):  121 (72.64) Epsilon: 0.615, Avg Q: 9.751\n",
      "Episode: 385, Total Reward (running avg):  135 (75.76) Epsilon: 0.614, Avg Q: 9.796\n",
      "Episode: 386, Total Reward (running avg):   51 (74.52) Epsilon: 0.613, Avg Q: 9.586\n"
     ]
    },
    {
     "name": "stdout",
     "output_type": "stream",
     "text": [
      "Episode: 387, Total Reward (running avg):  165 (79.05) Epsilon: 0.612, Avg Q: 10.56\n",
      "Episode: 388, Total Reward (running avg):  200 (85.09) Epsilon: 0.611, Avg Q: 10.7\n",
      "Episode: 389, Total Reward (running avg):  111 (86.39) Epsilon: 0.610, Avg Q: 9.888\n",
      "Episode: 390, Total Reward (running avg):   44 (84.27) Epsilon: 0.609, Avg Q: 9.945\n",
      "Episode: 391, Total Reward (running avg):   18 (80.96) Epsilon: 0.608, Avg Q: 9.115\n",
      "Episode: 392, Total Reward (running avg):   19 (77.86) Epsilon: 0.607, Avg Q: 9.323\n",
      "Episode: 393, Total Reward (running avg):   93 (78.62) Epsilon: 0.606, Avg Q: 10.48\n",
      "Episode: 394, Total Reward (running avg):  147 (82.04) Epsilon: 0.605, Avg Q: 10.32\n",
      "Episode: 395, Total Reward (running avg):   46 (80.23) Epsilon: 0.604, Avg Q: 10.08\n",
      "Episode: 396, Total Reward (running avg):   69 (79.67) Epsilon: 0.603, Avg Q: 10.24\n",
      "Episode: 397, Total Reward (running avg):  200 (85.69) Epsilon: 0.602, Avg Q: 10.66\n",
      "Episode: 398, Total Reward (running avg):   48 (83.80) Epsilon: 0.601, Avg Q: 10.05\n",
      "Episode: 399, Total Reward (running avg):  175 (88.36) Epsilon: 0.600, Avg Q: 10.9\n",
      "Episode: 400, Total Reward (running avg):   14 (84.65) Epsilon: 0.599, Avg Q: 8.718\n",
      "Episode: 401, Total Reward (running avg):  103 (85.56) Epsilon: 0.598, Avg Q: 10.8\n",
      "Episode: 402, Total Reward (running avg):   61 (84.33) Epsilon: 0.597, Avg Q: 10.71\n",
      "Episode: 403, Total Reward (running avg):  200 (90.12) Epsilon: 0.596, Avg Q: 10.6\n",
      "Episode: 404, Total Reward (running avg):   72 (89.21) Epsilon: 0.595, Avg Q: 10.8\n",
      "Episode: 405, Total Reward (running avg):   72 (88.35) Epsilon: 0.594, Avg Q: 10.9\n",
      "Episode: 406, Total Reward (running avg):   48 (86.33) Epsilon: 0.593, Avg Q: 10.65\n",
      "Episode: 407, Total Reward (running avg):   44 (84.22) Epsilon: 0.592, Avg Q: 10.5\n",
      "Episode: 408, Total Reward (running avg):   52 (82.61) Epsilon: 0.591, Avg Q: 10.71\n",
      "Episode: 409, Total Reward (running avg):  103 (83.63) Epsilon: 0.590, Avg Q: 10.44\n",
      "Episode: 410, Total Reward (running avg):  198 (89.34) Epsilon: 0.589, Avg Q: 11.02\n",
      "Episode: 411, Total Reward (running avg):   34 (86.58) Epsilon: 0.588, Avg Q: 10.72\n",
      "Episode: 412, Total Reward (running avg):   97 (87.10) Epsilon: 0.587, Avg Q: 11.44\n",
      "Episode: 413, Total Reward (running avg):  119 (88.69) Epsilon: 0.586, Avg Q: 11.51\n",
      "Episode: 414, Total Reward (running avg):   97 (89.11) Epsilon: 0.585, Avg Q: 11.35\n",
      "Episode: 415, Total Reward (running avg):  162 (92.75) Epsilon: 0.584, Avg Q: 11.37\n",
      "Episode: 416, Total Reward (running avg):   67 (91.47) Epsilon: 0.583, Avg Q: 11.25\n",
      "Episode: 417, Total Reward (running avg):   98 (91.79) Epsilon: 0.582, Avg Q: 11.42\n",
      "Episode: 418, Total Reward (running avg):  200 (97.20) Epsilon: 0.581, Avg Q: 11.44\n",
      "Episode: 419, Total Reward (running avg):   84 (96.54) Epsilon: 0.580, Avg Q: 11.84\n",
      "Episode: 420, Total Reward (running avg):   47 (94.07) Epsilon: 0.579, Avg Q: 11.62\n",
      "Episode: 421, Total Reward (running avg):  147 (96.71) Epsilon: 0.578, Avg Q: 11.97\n",
      "Episode: 422, Total Reward (running avg):   27 (93.23) Epsilon: 0.577, Avg Q: 10.9\n",
      "Episode: 423, Total Reward (running avg):   27 (89.92) Epsilon: 0.576, Avg Q: 11.07\n",
      "Episode: 424, Total Reward (running avg):  163 (93.57) Epsilon: 0.575, Avg Q: 11.94\n",
      "Episode: 425, Total Reward (running avg):   13 (89.54) Epsilon: 0.574, Avg Q: 10.17\n",
      "Episode: 426, Total Reward (running avg):  165 (93.31) Epsilon: 0.573, Avg Q: 11.97\n",
      "Episode: 427, Total Reward (running avg):   43 (90.80) Epsilon: 0.572, Avg Q: 11.49\n",
      "Episode: 428, Total Reward (running avg):   68 (89.66) Epsilon: 0.571, Avg Q: 11.83\n",
      "Episode: 429, Total Reward (running avg):  164 (93.38) Epsilon: 0.570, Avg Q: 11.97\n",
      "Episode: 430, Total Reward (running avg):  110 (94.21) Epsilon: 0.569, Avg Q: 11.97\n",
      "Episode: 431, Total Reward (running avg):  102 (94.60) Epsilon: 0.568, Avg Q: 11.98\n",
      "Episode: 432, Total Reward (running avg):   50 (92.37) Epsilon: 0.567, Avg Q: 12.02\n",
      "Episode: 433, Total Reward (running avg):  104 (92.95) Epsilon: 0.566, Avg Q: 12.33\n",
      "Episode: 434, Total Reward (running avg):   84 (92.50) Epsilon: 0.565, Avg Q: 12.24\n",
      "Episode: 435, Total Reward (running avg):   26 (89.18) Epsilon: 0.564, Avg Q: 11.2\n",
      "Episode: 436, Total Reward (running avg):   39 (86.67) Epsilon: 0.563, Avg Q: 11.52\n",
      "Episode: 437, Total Reward (running avg):   88 (86.73) Epsilon: 0.562, Avg Q: 12.18\n",
      "Episode: 438, Total Reward (running avg):  125 (88.65) Epsilon: 0.561, Avg Q: 12.44\n",
      "Episode: 439, Total Reward (running avg):   70 (87.71) Epsilon: 0.560, Avg Q: 12.18\n",
      "Episode: 440, Total Reward (running avg):  194 (93.03) Epsilon: 0.559, Avg Q: 12.25\n",
      "Episode: 441, Total Reward (running avg):  191 (97.93) Epsilon: 0.558, Avg Q: 12.57\n",
      "Episode: 442, Total Reward (running avg):   93 (97.68) Epsilon: 0.557, Avg Q: 12.2\n",
      "Episode: 443, Total Reward (running avg):  183 (101.95) Epsilon: 0.556, Avg Q: 12.96\n",
      "Episode: 444, Total Reward (running avg):  159 (104.80) Epsilon: 0.555, Avg Q: 12.62\n",
      "Episode: 445, Total Reward (running avg):   48 (101.96) Epsilon: 0.554, Avg Q: 12.25\n",
      "Episode: 446, Total Reward (running avg):   29 (98.31) Epsilon: 0.553, Avg Q: 11.96\n",
      "Episode: 447, Total Reward (running avg):  129 (99.85) Epsilon: 0.552, Avg Q: 12.55\n",
      "Episode: 448, Total Reward (running avg):   14 (95.55) Epsilon: 0.551, Avg Q: 10.45\n",
      "Episode: 449, Total Reward (running avg):   25 (92.03) Epsilon: 0.550, Avg Q: 11.6\n",
      "Episode: 450, Total Reward (running avg):   60 (90.42) Epsilon: 0.549, Avg Q: 12.4\n",
      "Episode: 451, Total Reward (running avg):   46 (88.20) Epsilon: 0.548, Avg Q: 12.23\n",
      "Episode: 452, Total Reward (running avg):   66 (87.09) Epsilon: 0.547, Avg Q: 12.4\n",
      "Episode: 453, Total Reward (running avg):   33 (84.39) Epsilon: 0.546, Avg Q: 12.22\n",
      "Episode: 454, Total Reward (running avg):   89 (84.62) Epsilon: 0.545, Avg Q: 12.95\n",
      "Episode: 455, Total Reward (running avg):   88 (84.79) Epsilon: 0.544, Avg Q: 12.91\n",
      "Episode: 456, Total Reward (running avg):  172 (89.15) Epsilon: 0.543, Avg Q: 13.2\n",
      "Episode: 457, Total Reward (running avg):  184 (93.89) Epsilon: 0.542, Avg Q: 12.97\n",
      "Episode: 458, Total Reward (running avg):  120 (95.20) Epsilon: 0.541, Avg Q: 13.06\n",
      "Episode: 459, Total Reward (running avg):   26 (91.74) Epsilon: 0.540, Avg Q: 11.8\n",
      "Episode: 460, Total Reward (running avg):  200 (97.15) Epsilon: 0.539, Avg Q: 13.11\n",
      "Episode: 461, Total Reward (running avg):   57 (95.14) Epsilon: 0.538, Avg Q: 12.74\n",
      "Episode: 462, Total Reward (running avg):   53 (93.04) Epsilon: 0.537, Avg Q: 12.5\n",
      "Episode: 463, Total Reward (running avg):   63 (91.53) Epsilon: 0.536, Avg Q: 13.03\n",
      "Episode: 464, Total Reward (running avg):  143 (94.11) Epsilon: 0.535, Avg Q: 13.47\n",
      "Episode: 465, Total Reward (running avg):  200 (99.40) Epsilon: 0.534, Avg Q: 13.41\n",
      "Episode: 466, Total Reward (running avg):   53 (97.08) Epsilon: 0.533, Avg Q: 12.96\n",
      "Episode: 467, Total Reward (running avg):  200 (102.23) Epsilon: 0.532, Avg Q: 13.03\n",
      "Episode: 468, Total Reward (running avg):   47 (99.47) Epsilon: 0.531, Avg Q: 13.05\n",
      "Episode: 469, Total Reward (running avg):  200 (104.49) Epsilon: 0.530, Avg Q: 13.75\n",
      "Episode: 470, Total Reward (running avg):   89 (103.72) Epsilon: 0.529, Avg Q: 13.37\n",
      "Episode: 471, Total Reward (running avg):  169 (106.98) Epsilon: 0.528, Avg Q: 14\n",
      "Episode: 472, Total Reward (running avg):  138 (108.53) Epsilon: 0.527, Avg Q: 13.92\n",
      "Episode: 473, Total Reward (running avg):  180 (112.11) Epsilon: 0.526, Avg Q: 13.86\n",
      "Episode: 474, Total Reward (running avg):   62 (109.60) Epsilon: 0.525, Avg Q: 13.69\n",
      "Episode: 475, Total Reward (running avg):   56 (106.92) Epsilon: 0.524, Avg Q: 12.95\n",
      "Episode: 476, Total Reward (running avg):   20 (102.58) Epsilon: 0.523, Avg Q: 12.37\n",
      "Episode: 477, Total Reward (running avg):   57 (100.30) Epsilon: 0.522, Avg Q: 13.41\n",
      "Episode: 478, Total Reward (running avg):   43 (97.43) Epsilon: 0.521, Avg Q: 13.22\n",
      "Episode: 479, Total Reward (running avg):  200 (102.56) Epsilon: 0.520, Avg Q: 14.02\n",
      "Episode: 480, Total Reward (running avg):   83 (101.58) Epsilon: 0.519, Avg Q: 13.74\n",
      "Episode: 481, Total Reward (running avg):  200 (106.50) Epsilon: 0.518, Avg Q: 13.71\n",
      "Episode: 482, Total Reward (running avg):  200 (111.18) Epsilon: 0.517, Avg Q: 14.5\n",
      "Episode: 483, Total Reward (running avg):   40 (107.62) Epsilon: 0.516, Avg Q: 13.64\n",
      "Episode: 484, Total Reward (running avg):   73 (105.89) Epsilon: 0.515, Avg Q: 13.93\n",
      "Episode: 485, Total Reward (running avg):  200 (110.59) Epsilon: 0.514, Avg Q: 14.32\n",
      "Episode: 486, Total Reward (running avg):  138 (111.96) Epsilon: 0.513, Avg Q: 14.09\n",
      "Episode: 487, Total Reward (running avg):   69 (109.82) Epsilon: 0.512, Avg Q: 13.69\n",
      "Episode: 488, Total Reward (running avg):   49 (106.77) Epsilon: 0.511, Avg Q: 13.53\n",
      "Episode: 489, Total Reward (running avg):  124 (107.64) Epsilon: 0.510, Avg Q: 14.39\n",
      "Episode: 490, Total Reward (running avg):  182 (111.35) Epsilon: 0.509, Avg Q: 14.64\n",
      "Episode: 491, Total Reward (running avg):  190 (115.29) Epsilon: 0.508, Avg Q: 14.76\n",
      "Episode: 492, Total Reward (running avg):  200 (119.52) Epsilon: 0.507, Avg Q: 14.76\n",
      "Episode: 493, Total Reward (running avg):   27 (114.90) Epsilon: 0.506, Avg Q: 13.15\n",
      "Episode: 494, Total Reward (running avg):   49 (111.60) Epsilon: 0.505, Avg Q: 13.91\n",
      "Episode: 495, Total Reward (running avg):  158 (113.92) Epsilon: 0.504, Avg Q: 14.06\n",
      "Episode: 496, Total Reward (running avg):  195 (117.98) Epsilon: 0.503, Avg Q: 14.38\n",
      "Episode: 497, Total Reward (running avg):   32 (113.68) Epsilon: 0.502, Avg Q: 13.64\n",
      "Episode: 498, Total Reward (running avg):   89 (112.44) Epsilon: 0.501, Avg Q: 14.78\n",
      "Episode: 499, Total Reward (running avg):  200 (116.82) Epsilon: 0.500, Avg Q: 15.22\n",
      "Episode: 500, Total Reward (running avg):  169 (119.43) Epsilon: 0.499, Avg Q: 14.9\n",
      "Episode: 501, Total Reward (running avg):  200 (123.46) Epsilon: 0.498, Avg Q: 15.31\n",
      "Episode: 502, Total Reward (running avg):   85 (121.54) Epsilon: 0.497, Avg Q: 14.86\n",
      "Episode: 503, Total Reward (running avg):  200 (125.46) Epsilon: 0.496, Avg Q: 15.21\n",
      "Episode: 504, Total Reward (running avg):   95 (123.94) Epsilon: 0.495, Avg Q: 15.01\n",
      "Episode: 505, Total Reward (running avg):   19 (118.69) Epsilon: 0.494, Avg Q: 13.21\n",
      "Episode: 506, Total Reward (running avg):   47 (115.10) Epsilon: 0.493, Avg Q: 14.39\n",
      "Episode: 507, Total Reward (running avg):  144 (116.55) Epsilon: 0.492, Avg Q: 15.16\n",
      "Episode: 508, Total Reward (running avg):  200 (120.72) Epsilon: 0.491, Avg Q: 15.31\n",
      "Episode: 509, Total Reward (running avg):  200 (124.69) Epsilon: 0.490, Avg Q: 15.19\n",
      "Episode: 510, Total Reward (running avg):  200 (128.45) Epsilon: 0.489, Avg Q: 15.08\n",
      "Episode: 511, Total Reward (running avg):  197 (131.88) Epsilon: 0.488, Avg Q: 15.4\n",
      "Episode: 512, Total Reward (running avg):  200 (135.28) Epsilon: 0.487, Avg Q: 14.96\n",
      "Episode: 513, Total Reward (running avg):  200 (138.52) Epsilon: 0.486, Avg Q: 15.19\n",
      "Episode: 514, Total Reward (running avg):  196 (141.39) Epsilon: 0.485, Avg Q: 14.93\n",
      "Episode: 515, Total Reward (running avg):  200 (144.32) Epsilon: 0.484, Avg Q: 15.57\n",
      "Episode: 516, Total Reward (running avg):  180 (146.11) Epsilon: 0.483, Avg Q: 15.6\n",
      "Episode: 517, Total Reward (running avg):  149 (146.25) Epsilon: 0.482, Avg Q: 15.62\n",
      "Episode: 518, Total Reward (running avg):  195 (148.69) Epsilon: 0.481, Avg Q: 15.75\n",
      "Episode: 519, Total Reward (running avg):  200 (151.26) Epsilon: 0.480, Avg Q: 15.64\n",
      "Episode: 520, Total Reward (running avg):  200 (153.69) Epsilon: 0.479, Avg Q: 15.41\n",
      "Episode: 521, Total Reward (running avg):  200 (156.01) Epsilon: 0.478, Avg Q: 15.67\n",
      "Episode: 522, Total Reward (running avg):  200 (158.21) Epsilon: 0.477, Avg Q: 16.16\n",
      "Episode: 523, Total Reward (running avg):   39 (152.25) Epsilon: 0.476, Avg Q: 14.92\n",
      "Episode: 524, Total Reward (running avg):   38 (146.54) Epsilon: 0.475, Avg Q: 14.86\n",
      "Episode: 525, Total Reward (running avg):  200 (149.21) Epsilon: 0.474, Avg Q: 16.17\n",
      "Episode: 526, Total Reward (running avg):  179 (150.70) Epsilon: 0.473, Avg Q: 15.97\n",
      "Episode: 527, Total Reward (running avg):   26 (144.46) Epsilon: 0.472, Avg Q: 14.45\n",
      "Episode: 528, Total Reward (running avg):  200 (147.24) Epsilon: 0.471, Avg Q: 16.2\n",
      "Episode: 529, Total Reward (running avg):  200 (149.88) Epsilon: 0.470, Avg Q: 16.28\n",
      "Episode: 530, Total Reward (running avg):  159 (150.33) Epsilon: 0.469, Avg Q: 15.93\n",
      "Episode: 531, Total Reward (running avg):  147 (150.17) Epsilon: 0.468, Avg Q: 15.53\n",
      "Episode: 532, Total Reward (running avg):   87 (147.01) Epsilon: 0.467, Avg Q: 15.81\n",
      "Episode: 533, Total Reward (running avg):  188 (149.06) Epsilon: 0.466, Avg Q: 16.14\n",
      "Episode: 534, Total Reward (running avg):  200 (151.61) Epsilon: 0.465, Avg Q: 15.55\n",
      "Episode: 535, Total Reward (running avg):   48 (146.43) Epsilon: 0.464, Avg Q: 15.35\n",
      "Episode: 536, Total Reward (running avg):  200 (149.10) Epsilon: 0.463, Avg Q: 16.66\n",
      "Episode: 537, Total Reward (running avg):  200 (151.65) Epsilon: 0.462, Avg Q: 16.47\n",
      "Episode: 538, Total Reward (running avg):   75 (147.82) Epsilon: 0.461, Avg Q: 16.12\n",
      "Episode: 539, Total Reward (running avg):  200 (150.43) Epsilon: 0.460, Avg Q: 16.64\n",
      "Episode: 540, Total Reward (running avg):  200 (152.90) Epsilon: 0.459, Avg Q: 16.37\n",
      "Episode: 541, Total Reward (running avg):  200 (155.26) Epsilon: 0.458, Avg Q: 16.7\n",
      "Episode: 542, Total Reward (running avg):  200 (157.50) Epsilon: 0.457, Avg Q: 16.47\n",
      "Episode: 543, Total Reward (running avg):  200 (159.62) Epsilon: 0.456, Avg Q: 16.9\n",
      "Episode: 544, Total Reward (running avg):  114 (157.34) Epsilon: 0.455, Avg Q: 16.34\n",
      "Episode: 545, Total Reward (running avg):  200 (159.47) Epsilon: 0.454, Avg Q: 16.76\n",
      "Episode: 546, Total Reward (running avg):  194 (161.20) Epsilon: 0.453, Avg Q: 16.57\n",
      "Episode: 547, Total Reward (running avg):  162 (161.24) Epsilon: 0.452, Avg Q: 16.81\n",
      "Episode: 548, Total Reward (running avg):  125 (159.43) Epsilon: 0.451, Avg Q: 16.75\n",
      "Episode: 549, Total Reward (running avg):   52 (154.06) Epsilon: 0.450, Avg Q: 15.89\n",
      "Episode: 550, Total Reward (running avg):  200 (156.35) Epsilon: 0.449, Avg Q: 16.85\n",
      "Episode: 551, Total Reward (running avg):  200 (158.54) Epsilon: 0.448, Avg Q: 16.82\n",
      "Episode: 552, Total Reward (running avg):  200 (160.61) Epsilon: 0.447, Avg Q: 16.17\n",
      "Episode: 553, Total Reward (running avg):   68 (155.98) Epsilon: 0.446, Avg Q: 16.21\n",
      "Episode: 554, Total Reward (running avg):  113 (153.83) Epsilon: 0.445, Avg Q: 16.97\n",
      "Episode: 555, Total Reward (running avg):  200 (156.14) Epsilon: 0.444, Avg Q: 16.78\n",
      "Episode: 556, Total Reward (running avg):  147 (155.68) Epsilon: 0.443, Avg Q: 16.88\n",
      "Episode: 557, Total Reward (running avg):  200 (157.90) Epsilon: 0.442, Avg Q: 17.15\n",
      "Episode: 558, Total Reward (running avg):  120 (156.00) Epsilon: 0.441, Avg Q: 16.84\n",
      "Episode: 559, Total Reward (running avg):  200 (158.20) Epsilon: 0.440, Avg Q: 16.94\n",
      "Episode: 560, Total Reward (running avg):  200 (160.29) Epsilon: 0.439, Avg Q: 16.57\n",
      "Episode: 561, Total Reward (running avg):  164 (160.48) Epsilon: 0.438, Avg Q: 16.98\n",
      "Episode: 562, Total Reward (running avg):  102 (157.55) Epsilon: 0.437, Avg Q: 16.57\n",
      "Episode: 563, Total Reward (running avg):  200 (159.68) Epsilon: 0.436, Avg Q: 17.21\n",
      "Episode: 564, Total Reward (running avg):  183 (160.84) Epsilon: 0.435, Avg Q: 16.88\n",
      "Episode: 565, Total Reward (running avg):   56 (155.60) Epsilon: 0.434, Avg Q: 16.29\n",
      "Episode: 566, Total Reward (running avg):  200 (157.82) Epsilon: 0.433, Avg Q: 17.34\n",
      "Episode: 567, Total Reward (running avg):   40 (151.93) Epsilon: 0.432, Avg Q: 16.35\n",
      "Episode: 568, Total Reward (running avg):  200 (154.33) Epsilon: 0.431, Avg Q: 17.48\n",
      "Episode: 569, Total Reward (running avg):  170 (155.12) Epsilon: 0.430, Avg Q: 17.13\n",
      "Episode: 570, Total Reward (running avg):   49 (149.81) Epsilon: 0.429, Avg Q: 16.64\n",
      "Episode: 571, Total Reward (running avg):  200 (152.32) Epsilon: 0.428, Avg Q: 17.04\n",
      "Episode: 572, Total Reward (running avg):   79 (148.65) Epsilon: 0.427, Avg Q: 16.79\n",
      "Episode: 573, Total Reward (running avg):   56 (144.02) Epsilon: 0.426, Avg Q: 16.47\n",
      "Episode: 574, Total Reward (running avg):  200 (146.82) Epsilon: 0.425, Avg Q: 17.39\n",
      "Episode: 575, Total Reward (running avg):  200 (149.48) Epsilon: 0.424, Avg Q: 17.39\n",
      "Episode: 576, Total Reward (running avg):  121 (148.05) Epsilon: 0.423, Avg Q: 17.23\n",
      "Episode: 577, Total Reward (running avg):  200 (150.65) Epsilon: 0.422, Avg Q: 17.35\n",
      "Episode: 578, Total Reward (running avg):  200 (153.12) Epsilon: 0.421, Avg Q: 16.78\n",
      "Episode: 579, Total Reward (running avg):  200 (155.46) Epsilon: 0.420, Avg Q: 17.71\n"
     ]
    },
    {
     "name": "stdout",
     "output_type": "stream",
     "text": [
      "Episode: 580, Total Reward (running avg):  200 (157.69) Epsilon: 0.419, Avg Q: 17.58\n",
      "Episode: 581, Total Reward (running avg):  150 (157.31) Epsilon: 0.418, Avg Q: 17.39\n",
      "Episode: 582, Total Reward (running avg):  200 (159.44) Epsilon: 0.417, Avg Q: 17.56\n",
      "Episode: 583, Total Reward (running avg):  200 (161.47) Epsilon: 0.416, Avg Q: 16.88\n",
      "Episode: 584, Total Reward (running avg):   21 (154.45) Epsilon: 0.415, Avg Q: 15.23\n",
      "Episode: 585, Total Reward (running avg):  200 (156.72) Epsilon: 0.414, Avg Q: 16.93\n",
      "Episode: 586, Total Reward (running avg):   23 (150.04) Epsilon: 0.413, Avg Q: 15.31\n",
      "Episode: 587, Total Reward (running avg):  200 (152.53) Epsilon: 0.412, Avg Q: 17.63\n",
      "Episode: 588, Total Reward (running avg):  200 (154.91) Epsilon: 0.411, Avg Q: 17.63\n",
      "Episode: 589, Total Reward (running avg):  193 (156.81) Epsilon: 0.410, Avg Q: 17.35\n",
      "Episode: 590, Total Reward (running avg):  200 (158.97) Epsilon: 0.409, Avg Q: 17.71\n",
      "Episode: 591, Total Reward (running avg):  117 (156.87) Epsilon: 0.408, Avg Q: 16.46\n",
      "Episode: 592, Total Reward (running avg):  118 (154.93) Epsilon: 0.407, Avg Q: 17.14\n",
      "Episode: 593, Total Reward (running avg):  200 (157.18) Epsilon: 0.406, Avg Q: 17.9\n",
      "Episode: 594, Total Reward (running avg):  156 (157.12) Epsilon: 0.405, Avg Q: 17.52\n",
      "Episode: 595, Total Reward (running avg):  200 (159.27) Epsilon: 0.404, Avg Q: 17.85\n",
      "Episode: 596, Total Reward (running avg):  200 (161.30) Epsilon: 0.403, Avg Q: 17.94\n",
      "Episode: 597, Total Reward (running avg):  200 (163.24) Epsilon: 0.402, Avg Q: 17.65\n",
      "Episode: 598, Total Reward (running avg):  189 (164.53) Epsilon: 0.401, Avg Q: 16.95\n",
      "Episode: 599, Total Reward (running avg):  200 (166.30) Epsilon: 0.400, Avg Q: 17.87\n",
      "Episode: 600, Total Reward (running avg):  171 (166.54) Epsilon: 0.399, Avg Q: 17.63\n",
      "Episode: 601, Total Reward (running avg):  200 (168.21) Epsilon: 0.398, Avg Q: 17.69\n",
      "Episode: 602, Total Reward (running avg):  200 (169.80) Epsilon: 0.397, Avg Q: 18.15\n",
      "Episode: 603, Total Reward (running avg):  133 (167.96) Epsilon: 0.396, Avg Q: 17.31\n",
      "Episode: 604, Total Reward (running avg):  200 (169.56) Epsilon: 0.395, Avg Q: 18.22\n",
      "Episode: 605, Total Reward (running avg):   22 (162.18) Epsilon: 0.394, Avg Q: 15.79\n",
      "Episode: 606, Total Reward (running avg):  200 (164.07) Epsilon: 0.393, Avg Q: 18.05\n",
      "Episode: 607, Total Reward (running avg):  200 (165.87) Epsilon: 0.392, Avg Q: 18.06\n",
      "Episode: 608, Total Reward (running avg):  200 (167.58) Epsilon: 0.391, Avg Q: 17.99\n",
      "Episode: 609, Total Reward (running avg):  129 (165.65) Epsilon: 0.390, Avg Q: 17.76\n",
      "Episode: 610, Total Reward (running avg):  179 (166.32) Epsilon: 0.389, Avg Q: 17.71\n",
      "Episode: 611, Total Reward (running avg):  200 (168.00) Epsilon: 0.388, Avg Q: 17.89\n",
      "Episode: 612, Total Reward (running avg):  200 (169.60) Epsilon: 0.387, Avg Q: 18.06\n",
      "Episode: 613, Total Reward (running avg):  200 (171.12) Epsilon: 0.386, Avg Q: 18.39\n",
      "Episode: 614, Total Reward (running avg):  200 (172.56) Epsilon: 0.385, Avg Q: 17.47\n",
      "Episode: 615, Total Reward (running avg):  200 (173.94) Epsilon: 0.384, Avg Q: 18.42\n",
      "Episode: 616, Total Reward (running avg):  200 (175.24) Epsilon: 0.383, Avg Q: 18.38\n",
      "Episode: 617, Total Reward (running avg):  200 (176.48) Epsilon: 0.382, Avg Q: 18.45\n",
      "Episode: 618, Total Reward (running avg):  200 (177.65) Epsilon: 0.381, Avg Q: 18.2\n",
      "Episode: 619, Total Reward (running avg):  184 (177.97) Epsilon: 0.380, Avg Q: 17.29\n",
      "Episode: 620, Total Reward (running avg):  200 (179.07) Epsilon: 0.379, Avg Q: 17.88\n",
      "Episode: 621, Total Reward (running avg):  200 (180.12) Epsilon: 0.378, Avg Q: 18.24\n",
      "Episode: 622, Total Reward (running avg):  200 (181.11) Epsilon: 0.377, Avg Q: 17.98\n",
      "Episode: 623, Total Reward (running avg):  200 (182.06) Epsilon: 0.376, Avg Q: 18.51\n",
      "Episode: 624, Total Reward (running avg):   78 (176.85) Epsilon: 0.375, Avg Q: 17.65\n",
      "Episode: 625, Total Reward (running avg):  200 (178.01) Epsilon: 0.374, Avg Q: 17.89\n",
      "Episode: 626, Total Reward (running avg):  200 (179.11) Epsilon: 0.373, Avg Q: 18.5\n",
      "Episode: 627, Total Reward (running avg):  200 (180.16) Epsilon: 0.372, Avg Q: 17.82\n",
      "Episode: 628, Total Reward (running avg):  200 (181.15) Epsilon: 0.371, Avg Q: 18.38\n",
      "Episode: 629, Total Reward (running avg):  200 (182.09) Epsilon: 0.370, Avg Q: 18.53\n",
      "Episode: 630, Total Reward (running avg):  200 (182.99) Epsilon: 0.369, Avg Q: 18.38\n",
      "Episode: 631, Total Reward (running avg):  200 (183.84) Epsilon: 0.368, Avg Q: 18.43\n",
      "Episode: 632, Total Reward (running avg):  200 (184.64) Epsilon: 0.367, Avg Q: 18.57\n",
      "Episode: 633, Total Reward (running avg):  200 (185.41) Epsilon: 0.366, Avg Q: 18.59\n",
      "Episode: 634, Total Reward (running avg):  200 (186.14) Epsilon: 0.365, Avg Q: 18.57\n",
      "Episode: 635, Total Reward (running avg):  200 (186.83) Epsilon: 0.364, Avg Q: 18.46\n",
      "Episode: 636, Total Reward (running avg):  200 (187.49) Epsilon: 0.363, Avg Q: 18.44\n",
      "Episode: 637, Total Reward (running avg):   91 (182.67) Epsilon: 0.362, Avg Q: 17.95\n",
      "Episode: 638, Total Reward (running avg):  200 (183.53) Epsilon: 0.361, Avg Q: 18.66\n",
      "Episode: 639, Total Reward (running avg):  200 (184.36) Epsilon: 0.360, Avg Q: 18.68\n",
      "Episode: 640, Total Reward (running avg):  200 (185.14) Epsilon: 0.359, Avg Q: 17.67\n",
      "Episode: 641, Total Reward (running avg):  200 (185.88) Epsilon: 0.358, Avg Q: 18.43\n",
      "Episode: 642, Total Reward (running avg):  200 (186.59) Epsilon: 0.357, Avg Q: 18.51\n",
      "Episode: 643, Total Reward (running avg):  147 (184.61) Epsilon: 0.356, Avg Q: 18.18\n",
      "Episode: 644, Total Reward (running avg):  200 (185.38) Epsilon: 0.355, Avg Q: 18.68\n",
      "Episode: 645, Total Reward (running avg):  200 (186.11) Epsilon: 0.354, Avg Q: 18.76\n",
      "Episode: 646, Total Reward (running avg):  200 (186.80) Epsilon: 0.353, Avg Q: 18.51\n",
      "Episode: 647, Total Reward (running avg):  200 (187.46) Epsilon: 0.352, Avg Q: 18.68\n",
      "Episode: 648, Total Reward (running avg):  200 (188.09) Epsilon: 0.351, Avg Q: 18.71\n",
      "Episode: 649, Total Reward (running avg):  171 (187.24) Epsilon: 0.350, Avg Q: 18.41\n",
      "Episode: 650, Total Reward (running avg):  200 (187.87) Epsilon: 0.349, Avg Q: 18.47\n",
      "Episode: 651, Total Reward (running avg):  200 (188.48) Epsilon: 0.348, Avg Q: 18.45\n",
      "Episode: 652, Total Reward (running avg):  200 (189.06) Epsilon: 0.347, Avg Q: 18.92\n",
      "Episode: 653, Total Reward (running avg):  200 (189.60) Epsilon: 0.346, Avg Q: 18.91\n",
      "Episode: 654, Total Reward (running avg):  200 (190.12) Epsilon: 0.345, Avg Q: 18.9\n",
      "Episode: 655, Total Reward (running avg):  200 (190.62) Epsilon: 0.344, Avg Q: 18.9\n",
      "Episode: 656, Total Reward (running avg):   18 (181.99) Epsilon: 0.343, Avg Q: 15.1\n",
      "Episode: 657, Total Reward (running avg):  200 (182.89) Epsilon: 0.342, Avg Q: 18.75\n",
      "Episode: 658, Total Reward (running avg):  200 (183.74) Epsilon: 0.341, Avg Q: 19.04\n",
      "Episode: 659, Total Reward (running avg):  200 (184.56) Epsilon: 0.340, Avg Q: 18.61\n",
      "Episode: 660, Total Reward (running avg):  200 (185.33) Epsilon: 0.339, Avg Q: 18.9\n",
      "Episode: 661, Total Reward (running avg):  200 (186.06) Epsilon: 0.338, Avg Q: 18.9\n",
      "Episode: 662, Total Reward (running avg):  200 (186.76) Epsilon: 0.337, Avg Q: 18.83\n",
      "Episode: 663, Total Reward (running avg):  200 (187.42) Epsilon: 0.336, Avg Q: 18.63\n",
      "Episode: 664, Total Reward (running avg):  200 (188.05) Epsilon: 0.335, Avg Q: 18.44\n",
      "Episode: 665, Total Reward (running avg):   40 (180.65) Epsilon: 0.334, Avg Q: 17.98\n",
      "Episode: 666, Total Reward (running avg):   66 (174.91) Epsilon: 0.333, Avg Q: 18.01\n",
      "Episode: 667, Total Reward (running avg):  150 (173.67) Epsilon: 0.332, Avg Q: 18.59\n",
      "Episode: 668, Total Reward (running avg):  200 (174.99) Epsilon: 0.331, Avg Q: 19.08\n",
      "Episode: 669, Total Reward (running avg):   44 (168.44) Epsilon: 0.330, Avg Q: 17.48\n",
      "Episode: 670, Total Reward (running avg):  200 (170.01) Epsilon: 0.329, Avg Q: 19.04\n",
      "Episode: 671, Total Reward (running avg):  200 (171.51) Epsilon: 0.328, Avg Q: 18.81\n",
      "Episode: 672, Total Reward (running avg):  200 (172.94) Epsilon: 0.327, Avg Q: 19.04\n",
      "Episode: 673, Total Reward (running avg):  200 (174.29) Epsilon: 0.326, Avg Q: 19\n",
      "Episode: 674, Total Reward (running avg):  200 (175.58) Epsilon: 0.325, Avg Q: 18.93\n",
      "Episode: 675, Total Reward (running avg):  200 (176.80) Epsilon: 0.324, Avg Q: 18.9\n",
      "Episode: 676, Total Reward (running avg):  200 (177.96) Epsilon: 0.323, Avg Q: 19.03\n",
      "Episode: 677, Total Reward (running avg):  200 (179.06) Epsilon: 0.322, Avg Q: 18.6\n",
      "Episode: 678, Total Reward (running avg):  200 (180.11) Epsilon: 0.321, Avg Q: 18.86\n",
      "Episode: 679, Total Reward (running avg):  200 (181.10) Epsilon: 0.320, Avg Q: 19.03\n",
      "Episode: 680, Total Reward (running avg):  200 (182.05) Epsilon: 0.319, Avg Q: 18.99\n",
      "Episode: 681, Total Reward (running avg):  200 (182.94) Epsilon: 0.318, Avg Q: 19.07\n",
      "Episode: 682, Total Reward (running avg):  200 (183.80) Epsilon: 0.317, Avg Q: 18.83\n",
      "Episode: 683, Total Reward (running avg):  200 (184.61) Epsilon: 0.316, Avg Q: 19\n",
      "Episode: 684, Total Reward (running avg):  200 (185.38) Epsilon: 0.315, Avg Q: 18.8\n",
      "Episode: 685, Total Reward (running avg):  200 (186.11) Epsilon: 0.314, Avg Q: 18.78\n",
      "Episode: 686, Total Reward (running avg):  200 (186.80) Epsilon: 0.313, Avg Q: 18.91\n",
      "Episode: 687, Total Reward (running avg):  200 (187.46) Epsilon: 0.312, Avg Q: 18.84\n",
      "Episode: 688, Total Reward (running avg):  200 (188.09) Epsilon: 0.311, Avg Q: 19.01\n",
      "Episode: 689, Total Reward (running avg):  200 (188.68) Epsilon: 0.310, Avg Q: 19.03\n",
      "Episode: 690, Total Reward (running avg):  200 (189.25) Epsilon: 0.309, Avg Q: 19.08\n",
      "Episode: 691, Total Reward (running avg):  200 (189.79) Epsilon: 0.308, Avg Q: 19.03\n",
      "Episode: 692, Total Reward (running avg):  200 (190.30) Epsilon: 0.307, Avg Q: 19.23\n",
      "Episode: 693, Total Reward (running avg):  200 (190.78) Epsilon: 0.306, Avg Q: 18.97\n",
      "Episode: 694, Total Reward (running avg):  200 (191.24) Epsilon: 0.305, Avg Q: 19.19\n",
      "Episode: 695, Total Reward (running avg):  178 (190.58) Epsilon: 0.304, Avg Q: 18.7\n",
      "Episode: 696, Total Reward (running avg):  200 (191.05) Epsilon: 0.303, Avg Q: 18.31\n",
      "Episode: 697, Total Reward (running avg):  200 (191.50) Epsilon: 0.302, Avg Q: 19.14\n",
      "Episode: 698, Total Reward (running avg):  200 (191.93) Epsilon: 0.301, Avg Q: 19.08\n",
      "Episode: 699, Total Reward (running avg):  200 (192.33) Epsilon: 0.300, Avg Q: 19.25\n",
      "Episode: 700, Total Reward (running avg):  200 (192.71) Epsilon: 0.299, Avg Q: 18.95\n",
      "Episode: 701, Total Reward (running avg):  179 (192.03) Epsilon: 0.298, Avg Q: 18.31\n",
      "Episode: 702, Total Reward (running avg):  200 (192.43) Epsilon: 0.297, Avg Q: 19.27\n",
      "Episode: 703, Total Reward (running avg):  200 (192.80) Epsilon: 0.296, Avg Q: 19.09\n",
      "Episode: 704, Total Reward (running avg):  100 (188.16) Epsilon: 0.295, Avg Q: 18.63\n",
      "Episode: 705, Total Reward (running avg):  200 (188.76) Epsilon: 0.294, Avg Q: 18.61\n",
      "Episode: 706, Total Reward (running avg):  200 (189.32) Epsilon: 0.293, Avg Q: 18.99\n",
      "Episode: 707, Total Reward (running avg):  200 (189.85) Epsilon: 0.292, Avg Q: 19.16\n",
      "Episode: 708, Total Reward (running avg):  200 (190.36) Epsilon: 0.291, Avg Q: 18.94\n",
      "Episode: 709, Total Reward (running avg):  200 (190.84) Epsilon: 0.290, Avg Q: 19.02\n",
      "Episode: 710, Total Reward (running avg):  200 (191.30) Epsilon: 0.289, Avg Q: 19.25\n",
      "Episode: 711, Total Reward (running avg):  200 (191.73) Epsilon: 0.288, Avg Q: 19.4\n",
      "Episode: 712, Total Reward (running avg):  200 (192.15) Epsilon: 0.287, Avg Q: 19.07\n",
      "Episode: 713, Total Reward (running avg):  200 (192.54) Epsilon: 0.286, Avg Q: 19.33\n",
      "Episode: 714, Total Reward (running avg):  200 (192.91) Epsilon: 0.285, Avg Q: 19.41\n",
      "Episode: 715, Total Reward (running avg):  200 (193.27) Epsilon: 0.284, Avg Q: 19.3\n",
      "Episode: 716, Total Reward (running avg):  200 (193.60) Epsilon: 0.283, Avg Q: 19.35\n",
      "Episode: 717, Total Reward (running avg):  200 (193.92) Epsilon: 0.282, Avg Q: 18.98\n",
      "Episode: 718, Total Reward (running avg):  200 (194.23) Epsilon: 0.281, Avg Q: 19.08\n",
      "Episode: 719, Total Reward (running avg):  200 (194.52) Epsilon: 0.280, Avg Q: 19.03\n",
      "Episode: 720, Total Reward (running avg):  200 (194.79) Epsilon: 0.279, Avg Q: 18.98\n",
      "Episode: 721, Total Reward (running avg):  200 (195.05) Epsilon: 0.278, Avg Q: 18.56\n"
     ]
    }
   ],
   "source": [
    "# Create the environment\n",
    "env = gym.make(\"CartPole-v0\")\n",
    "\n",
    "# Enable visualization? Does not work in all environments.\n",
    "enable_visualization = False\n",
    "\n",
    "# Initializations\n",
    "num_actions = env.action_space.n\n",
    "num_states = env.observation_space.shape[0]\n",
    "num_episodes = 1200 \n",
    "batch_size = 128\n",
    "gamma = .94\n",
    "learning_rate = 1e-4\n",
    "\n",
    "# Object holding our online / offline Q-Networks\n",
    "ddqn = DoubleQLearningModel(device, num_states, num_actions, learning_rate)\n",
    "\n",
    "# Create replay buffer, where experience in form of tuples <s,a,r,s',t>, gathered from the environment is stored \n",
    "# for training\n",
    "replay_buffer = ExperienceReplay(device, num_states)\n",
    "\n",
    "# Train\n",
    "R, R_avg = train_loop_ddqn(ddqn, env, replay_buffer, num_episodes, enable_visualization=enable_visualization, batch_size=batch_size, gamma=gamma)"
   ]
  },
  {
   "cell_type": "code",
   "execution_count": null,
   "metadata": {
    "deletable": false,
    "editable": false,
    "nbgrader": {
     "cell_type": "code",
     "checksum": "52dee2317f03bced29c85c28462d4ad5",
     "grade": false,
     "grade_id": "cell-4757be1a3ec18b56",
     "locked": true,
     "schema_version": 3,
     "solution": false
    }
   },
   "outputs": [],
   "source": [
    "# close window\n",
    "if enable_visualization:\n",
    "    env.close()"
   ]
  },
  {
   "cell_type": "markdown",
   "metadata": {
    "deletable": false,
    "editable": false,
    "nbgrader": {
     "cell_type": "markdown",
     "checksum": "cb3f82e40e11a139f40e181799b40a93",
     "grade": false,
     "grade_id": "cell-8f1ad36de733ed92",
     "locked": true,
     "schema_version": 3,
     "solution": false
    }
   },
   "source": [
    "According to the code above, the code in the provided .py file, and the documentation of the environment, answer the following questions:\n",
    "    \n",
    "What is the state for this problem?"
   ]
  },
  {
   "cell_type": "markdown",
   "metadata": {
    "deletable": false,
    "nbgrader": {
     "cell_type": "markdown",
     "checksum": "2f28740b9ccf7bf2fa7f166c9fbde003",
     "grade": true,
     "grade_id": "cell-0a780f1afdcd6b1a",
     "locked": false,
     "points": 0,
     "schema_version": 3,
     "solution": true
    }
   },
   "source": [
    "**Your answer:** <br>\n",
    "There are 4 states found in [Gym](https://github.com/openai/gym). First, Cart Position (min -2.4, max 2.4). Second, Cart Velocity (min -Inf, max Inf). Third, Pole Angle (min -41.8°, max 41.8°). Fourth, Pole Velocity At Tip (min -Inf, max Inf)."
   ]
  },
  {
   "cell_type": "markdown",
   "metadata": {
    "deletable": false,
    "editable": false,
    "nbgrader": {
     "cell_type": "markdown",
     "checksum": "b5c4c4717846aa74e9713f9e67c5c7e8",
     "grade": false,
     "grade_id": "cell-50a080269bf6f296",
     "locked": true,
     "schema_version": 3,
     "solution": false
    }
   },
   "source": [
    "**(2 POE)** How often is the offline network updated to match the online one? Why do we need to do this?"
   ]
  },
  {
   "cell_type": "markdown",
   "metadata": {
    "deletable": false,
    "nbgrader": {
     "cell_type": "markdown",
     "checksum": "5dba2847e8894bd0aa6d6fddbe84cf22",
     "grade": true,
     "grade_id": "cell-099530ded38d7038",
     "locked": false,
     "points": 2,
     "schema_version": 3,
     "solution": true
    }
   },
   "source": [
    "**Your answer:** <br>\n",
    "After at least 1000 samples. Because there is a 50% changes of switching the networks. "
   ]
  },
  {
   "cell_type": "markdown",
   "metadata": {
    "deletable": false,
    "editable": false,
    "nbgrader": {
     "cell_type": "markdown",
     "checksum": "bff675aba1d71b595e71227070a28d2e",
     "grade": false,
     "grade_id": "cell-db1ad2492dd6680a",
     "locked": true,
     "schema_version": 3,
     "solution": false,
     "task": false
    }
   },
   "source": [
    "**(4 POE) Optional**\n",
    "\n",
    "There may be three reasons for the episode to end:\n",
    "\n",
    "1. The cart slides too far away\n",
    "1. The pendulum falls too low\n",
    "1. 200 time steps have passed\n",
    "\n",
    "As mentioned before, we replace the Q target with the immediate reward only in case 1 and 2. In the third case however, the Q target remains untouched.\n",
    "\n",
    "Please answer the following questions:\n",
    "\n",
    "1. How we treat this matter will have an influence on the Q-values being learned, and how they may be interpreted. Assuming we treat it as explained, and that we have managed to converge successfully, describe (in words and/or with mathematical expressions) what the Q-values we have learnt to represent.\n",
    "\n",
    "1. If we would treat case 3 the same as case 1 and 2, we would actually end up with a Partially Observable Markov Decision Process (POMDP). What would we need to add to our observations, in order to obtain an observable MDP again?"
   ]
  },
  {
   "cell_type": "markdown",
   "metadata": {
    "deletable": false,
    "nbgrader": {
     "cell_type": "markdown",
     "checksum": "a9072e9591cd5b0d65e20e660eadcf6f",
     "grade": true,
     "grade_id": "cell-629034eb3ae20711",
     "locked": false,
     "points": 4,
     "schema_version": 3,
     "solution": true,
     "task": false
    }
   },
   "source": [
    "**Your answer:** (fill in here)"
   ]
  },
  {
   "cell_type": "markdown",
   "metadata": {
    "deletable": false,
    "editable": false,
    "nbgrader": {
     "cell_type": "markdown",
     "checksum": "3a6271028b977453e6a9c87ee6f23130",
     "grade": false,
     "grade_id": "cell-0836fc1b783d1158",
     "locked": true,
     "schema_version": 3,
     "solution": false
    }
   },
   "source": [
    "Run the cell below to visualize your final policy (the greedy rather than epsilon-greedy one) in an episode from this environment.\n",
    "\n",
    "**Note:** In order to visualize, the env.render() command needs to work out on your system (see comment a few cells above)."
   ]
  },
  {
   "cell_type": "code",
   "execution_count": 2,
   "metadata": {
    "deletable": false,
    "editable": false,
    "nbgrader": {
     "cell_type": "code",
     "checksum": "63b264cd696948f8294236bb5c4e4fa5",
     "grade": false,
     "grade_id": "cell-1e8a9b49909882ac",
     "locked": true,
     "schema_version": 3,
     "solution": false
    }
   },
   "outputs": [
    {
     "ename": "NameError",
     "evalue": "name 'gym' is not defined",
     "output_type": "error",
     "traceback": [
      "\u001b[0;31m---------------------------------------------------------------------------\u001b[0m",
      "\u001b[0;31mNameError\u001b[0m                                 Traceback (most recent call last)",
      "\u001b[0;32m<ipython-input-2-04dc892bbca1>\u001b[0m in \u001b[0;36m<module>\u001b[0;34m\u001b[0m\n\u001b[1;32m      1\u001b[0m \u001b[0;32mimport\u001b[0m \u001b[0mtime\u001b[0m\u001b[0;34m\u001b[0m\u001b[0;34m\u001b[0m\u001b[0m\n\u001b[1;32m      2\u001b[0m \u001b[0mnum_episodes\u001b[0m \u001b[0;34m=\u001b[0m \u001b[0;36m10\u001b[0m\u001b[0;34m\u001b[0m\u001b[0;34m\u001b[0m\u001b[0m\n\u001b[0;32m----> 3\u001b[0;31m \u001b[0menv\u001b[0m \u001b[0;34m=\u001b[0m \u001b[0mgym\u001b[0m\u001b[0;34m.\u001b[0m\u001b[0mmake\u001b[0m\u001b[0;34m(\u001b[0m\u001b[0;34m\"CartPole-v0\"\u001b[0m\u001b[0;34m)\u001b[0m\u001b[0;34m\u001b[0m\u001b[0;34m\u001b[0m\u001b[0m\n\u001b[0m\u001b[1;32m      4\u001b[0m \u001b[0;34m\u001b[0m\u001b[0m\n\u001b[1;32m      5\u001b[0m \u001b[0;32mif\u001b[0m \u001b[0menable_visualization\u001b[0m\u001b[0;34m:\u001b[0m\u001b[0;34m\u001b[0m\u001b[0;34m\u001b[0m\u001b[0m\n",
      "\u001b[0;31mNameError\u001b[0m: name 'gym' is not defined"
     ]
    }
   ],
   "source": [
    "import time\n",
    "num_episodes = 10\n",
    "env = gym.make(\"CartPole-v0\")\n",
    "\n",
    "if enable_visualization:\n",
    "    for i in range(num_episodes):\n",
    "            state = env.reset() #reset to initial state\n",
    "            state = state[None,:]\n",
    "            terminal = False # reset terminal flag\n",
    "            while not terminal:\n",
    "                #env.render()\n",
    "                time.sleep(.05)\n",
    "                with torch.no_grad():\n",
    "                    q_values = ddqn.online_model(torch.tensor(state, dtype=torch.float, device=device)).cpu().numpy()\n",
    "                policy = eps_greedy_policy(q_values.squeeze(), .1) # greedy policy\n",
    "                action = np.random.choice(num_actions, p=policy)\n",
    "                state, reward, terminal, _ = env.step(action) # take one step in the evironment\n",
    "                state = state[None,:]\n",
    "    # close window\n",
    "    env.close();"
   ]
  },
  {
   "cell_type": "markdown",
   "metadata": {
    "deletable": false,
    "editable": false,
    "nbgrader": {
     "cell_type": "markdown",
     "checksum": "91c95cdee8f1715e789b8bdf2a4e2ff8",
     "grade": false,
     "grade_id": "cell-0bb5d237ca6839d6",
     "locked": true,
     "schema_version": 3,
     "solution": false
    }
   },
   "source": [
    "Plot the episodic rewards obtained throughout the optimization, together with a moving average of it (since the episodic reward is usually very noisy)."
   ]
  },
  {
   "cell_type": "code",
   "execution_count": 30,
   "metadata": {
    "deletable": false,
    "editable": false,
    "nbgrader": {
     "cell_type": "code",
     "checksum": "a49cda53e12c1b8a976338c0f8bff7b9",
     "grade": false,
     "grade_id": "cell-a3c72b1dbffd2db4",
     "locked": true,
     "schema_version": 3,
     "solution": false
    }
   },
   "outputs": [
    {
     "data": {
      "image/png": "[encoded data removed]",
      "text/plain": [
       "<Figure size 432x288 with 1 Axes>"
      ]
     },
     "metadata": {
      "needs_background": "light"
     },
     "output_type": "display_data"
    }
   ],
   "source": [
    "%matplotlib inline\n",
    "import matplotlib.pyplot as plt\n",
    "\n",
    "rewards = plt.plot(R, alpha=.4, label='R')\n",
    "avg_rewards = plt.plot(R_avg,label='avg R')\n",
    "plt.legend(bbox_to_anchor=(1.01, 1), loc=2, borderaxespad=0.)\n",
    "plt.xlabel('Episode')\n",
    "plt.ylim(0, 210)\n",
    "plt.show()"
   ]
  },
  {
   "cell_type": "markdown",
   "metadata": {
    "deletable": false,
    "editable": false,
    "nbgrader": {
     "cell_type": "markdown",
     "checksum": "99ff38a2a4ff5f958140c9ee6019db87",
     "grade": false,
     "grade_id": "cell-293ec5dfa636ff48",
     "locked": true,
     "schema_version": 3,
     "solution": false
    }
   },
   "source": [
    "Congratulations, you have now successfully implemented the DDQN algorithm. You are encouraged to explore different problems. There are a lot of different environments ready for you to implement your algorithms in. A few of these resources are:\n",
    "* [OpenAI gym](https://github.com/openai/gym)\n",
    "* [OpenAI Universe](https://github.com/openai/universe)\n",
    "* [DeepMind Lab](https://deepmind.com/blog/open-sourcing-deepmind-lab/)\n",
    "\n",
    "The model you implemented in this lab can be extended to solve harder problems. A good starting-point is to try to solve the Acrobot-problem, by loading the environment as \n",
    "\n",
    "**gym.make(\"Acrobot-v1\")**.\n",
    "\n",
    "The problem might require some modifications to how you decay $\\epsilon$, but otherwise, the code you have written within this lab should be sufficient. "
   ]
  },
  {
   "cell_type": "markdown",
   "metadata": {
    "deletable": false,
    "editable": false,
    "nbgrader": {
     "cell_type": "markdown",
     "checksum": "94fcff5354d8e3ee6d2eae96acf88363",
     "grade": false,
     "grade_id": "cell-671cfb5a590863e9",
     "locked": true,
     "schema_version": 3,
     "solution": false
    }
   },
   "source": [
    "### Task 3.2 Atari games\n",
    "\n",
    "**(4 POE Optional)**\n",
    "\n",
    "A common benchmark for reinforcement learning algorithms is the old Atari games. Each timestep for the Atari games, the agent observes a screenshot as its current state.\n",
    "\n",
    "There is an issue with this definition of the agent state, what?\n",
    "\n",
    "Name at least two solutions to the problem, and why it wouldn't work well without these changes. \n",
    "\n",
    "Hint:\n",
    "- Imagine the game of pong. What is important for the algorithm to predict? What is the state of the agent? Is it possible to play the game optimally with this state formulation?"
   ]
  },
  {
   "cell_type": "markdown",
   "metadata": {
    "deletable": false,
    "nbgrader": {
     "cell_type": "markdown",
     "checksum": "28edaae5be0f298d97eff3247b7a5700",
     "grade": true,
     "grade_id": "cell-55e109dd6169612b",
     "locked": false,
     "points": 4,
     "schema_version": 3,
     "solution": true
    }
   },
   "source": [
    "**Your answer:**<br>\n",
    "Since each observation is only one screenshot of the current state, there is no chance for the agent to find out what the velocity (speed/angle) and acceleration of the ball. Therefore, the agent cannot decide on a reasonable action based on the one screenshot alone. <br>\n",
    "We can put the current screenshot and the screenshot from the previous timestep to the algorithm so that the algorithm can have the chance to calculate the velocity. The screenshots can simply be concatenated or merged together. Futher, we can add a third image so that the algorithm can check 3 consecutive screenshots, then the algorithm can also estimate the acceleration. <br>\n",
    "The second solution is fist we do object detection to make sure we can focus on the true object we want to learn the movement of. Then we give the algorithm an sequence including information about the previous state and the current state like location(previous), location(current), time(previous), time (current). When we move to next state, we would get location(next), time(next). There we could get the velocity information, for example, for speed, we use $$s1=\\frac{location(current) - location(previous)}{time (current) - time(previous)}$$ and $$s2=\\frac{location(next) - location(current)}{time (next) - time(current)},$$ finally we get the speed as $$s = \\frac{s2-s1}{2}$$ For acceleration, we will use $$s = \\frac{s2-s1}{(time (next) - time(current))- time (current) - time(previous)}$$."
   ]
  },
  {
   "cell_type": "code",
   "execution_count": null,
   "metadata": {},
   "outputs": [],
   "source": []
  }
 ],
 "metadata": {
  "kernelspec": {
   "display_name": "Python 3",
   "language": "python",
   "name": "python3"
  },
  "language_info": {
   "codemirror_mode": {
    "name": "ipython",
    "version": 3
   },
   "file_extension": ".py",
   "mimetype": "text/x-python",
   "name": "python",
   "nbconvert_exporter": "python",
   "pygments_lexer": "ipython3",
   "version": "3.7.4"
  }
 },
 "nbformat": 4,
 "nbformat_minor": 1
}
